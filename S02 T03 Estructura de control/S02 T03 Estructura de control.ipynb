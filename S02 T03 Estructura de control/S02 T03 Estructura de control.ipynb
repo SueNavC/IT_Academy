{
 "cells": [
  {
   "cell_type": "markdown",
   "metadata": {},
   "source": [
    "# S02 T03 Estructura de control"
   ]
  },
  {
   "cell_type": "markdown",
   "metadata": {},
   "source": [
    "### Exercici 1"
   ]
  },
  {
   "cell_type": "markdown",
   "metadata": {},
   "source": [
    "L'exercici consisteix a crear un programa que et classifiqui una variable numèrica en funció de l’escala Suspès/Aprovat/Notable/Excel·lent."
   ]
  },
  {
   "cell_type": "code",
   "execution_count": 13,
   "metadata": {},
   "outputs": [
    {
     "name": "stdout",
     "output_type": "stream",
     "text": [
      "Torna a intentar-ho.Introdueix un nobre entre 0 i 10\n"
     ]
    }
   ],
   "source": [
    "# Resposta\n",
    "\n",
    "def calcularNota (punts):\n",
    "    if punts >= 0 and punts <= 4.5:\n",
    "        print(\"La nota es: {:.2f} -> Estàs Suspès.\".format(punts)) \n",
    "    elif  punts > 4.5 and punts <= 6.5:\n",
    "        print(\"La nota es: {:.2f} -> Estàs Aprovat.\".format(punts)) \n",
    "    elif  punts > 6.5 and punts <= 8.5:\n",
    "        print(\"La nota es: {:.2f} -> Tens un Notable.\".format(punts))\n",
    "    elif  punts > 8.5 and punts <= 10:    \n",
    "        print(\"La nota es: {:.2f} -> Tens un Excel.lent.\".format(punts)) \n",
    "    else:\n",
    "        print(\"Torna a intentar-ho.Introdueix un nobre entre 0 i 10\")\n",
    "            \n",
    "calcularNota(11.8)           "
   ]
  },
  {
   "cell_type": "markdown",
   "metadata": {},
   "source": [
    "### Exercici 2"
   ]
  },
  {
   "cell_type": "markdown",
   "metadata": {},
   "source": [
    "Utilitzant el següent tutorial Programiz: Python Input, Output and Import crea un programa que et pregunti dos números. T’ha de mostrar un missatge dient si el primer és més gran, el segon és més gran o són iguals."
   ]
  },
  {
   "cell_type": "code",
   "execution_count": 17,
   "metadata": {},
   "outputs": [
    {
     "name": "stdout",
     "output_type": "stream",
     "text": [
      "Introdueix un número enter: 9\n",
      "Introdueix unaltre número enter: 9\n",
      "Ambós nombres: 9 y 9 són iguals \n"
     ]
    }
   ],
   "source": [
    "# Resposta\n",
    "\n",
    "def comparar_nums():    \n",
    "    num1 = int(input(\"Introdueix un número enter: \"))\n",
    "    num2 = int(input(\"Introdueix unaltre número enter: \"))\n",
    "    \n",
    "    if num1 > num2:\n",
    "        print(\"El nombre {} és més gran que el nombre {} \".format(num1, num2))      \n",
    "    elif num1 < num2:\n",
    "        print(\"El nombre {} és més petit que el nombre {} \".format(num1, num2))\n",
    "    else:\n",
    "        print(\"Ambós nombres: {} y {} són iguals \".format(num1, num2))\n",
    "        \n",
    "comparar_nums()\n"
   ]
  },
  {
   "cell_type": "markdown",
   "metadata": {},
   "source": [
    "### Exercici 3"
   ]
  },
  {
   "cell_type": "markdown",
   "metadata": {},
   "source": [
    "Crea un programa que et pregunti el teu nom, i et demani un número. Si el número és 0, hauria de mostrar un missatge d’error. En cas contrari, hauria de mostrar el nom repetit tants cops com indiqui el número. Per exemple, “Joan Joan Joan”."
   ]
  },
  {
   "cell_type": "code",
   "execution_count": 25,
   "metadata": {},
   "outputs": [
    {
     "name": "stdout",
     "output_type": "stream",
     "text": [
      "Introdueix el teu nom: Sue\n",
      "Introdueix un número enter: 4\n",
      "Sue\n",
      "Sue\n",
      "Sue\n",
      "Sue\n"
     ]
    }
   ],
   "source": [
    "# Resposta\n",
    "\n",
    "def repetir_Nom():\n",
    "    nom = str(input(\"Introdueix el teu nom: \"))\n",
    "    contador = int(input(\"Introdueix un número enter: \"))\n",
    "    \n",
    "    if contador == 0:\n",
    "        print(\"Introdueix un nombre diferent a '0'\")\n",
    "    else:\n",
    "        for c in range(contador):\n",
    "            print(nom)\n",
    "\n",
    "repetir_Nom()"
   ]
  },
  {
   "cell_type": "markdown",
   "metadata": {},
   "source": [
    "### Exercici 4"
   ]
  },
  {
   "cell_type": "markdown",
   "metadata": {},
   "source": [
    "Crea un programa que donada una llista qualsevol, et digui si es simètrica o no. Si ho és, que et digui quants elements té."
   ]
  },
  {
   "cell_type": "code",
   "execution_count": 36,
   "metadata": {},
   "outputs": [
    {
     "name": "stdout",
     "output_type": "stream",
     "text": [
      "[68, 60, 22, 85, 24, 66, 2, 31, 67, 22, 41, 82, 56, 43, 71, 76, 29, 45, 6, 12, 95, 31, 9, 73, 89, 23, 27, 77, 61, 53, 53, 74, 37, 87, 82, 57, 68, 60, 65, 47, 1, 61, 13, 71, 88, 33, 79, 44, 25, 26, 96, 64]\n",
      "\n",
      "La llista és simètrica i conté 52 elements\n"
     ]
    }
   ],
   "source": [
    "# Resposta\n",
    "import numpy as np\n",
    "import random\n",
    "\n",
    "# Creem una llista amb nombres enters aleatoris:\n",
    "\n",
    "random_numbers = [random.randint(0, 100) for x in range(52)]\n",
    "print(random_numbers)\n",
    "\n",
    "def llista_simetrica(llista):\n",
    "    total_elements = len(llista)\n",
    "    if total_elements %2 == 0:\n",
    "        print(\"\\nLa llista és simètrica i conté {} elements\".format(total_elements))\n",
    "    else:\n",
    "        print(\"\\nLa llista no és simètrica\")\n",
    "    \n",
    "llista_simetrica(random_numbers)"
   ]
  },
  {
   "cell_type": "markdown",
   "metadata": {},
   "source": [
    "### Exercici 5"
   ]
  },
  {
   "cell_type": "markdown",
   "metadata": {},
   "source": [
    "Crea un programa que donada una llista, et digui quants números coincideixen amb la seva posició. Per exemple [3,4,2,0,2,3,6] el 2 i el 6 coincideixen."
   ]
  },
  {
   "cell_type": "code",
   "execution_count": 45,
   "metadata": {},
   "outputs": [
    {
     "name": "stdout",
     "output_type": "stream",
     "text": [
      "[4, 5, 2, 4, 5, 5, 9, 2, 9, 10]\n",
      "Els elements que coincideixen són:  [2, 5]\n"
     ]
    }
   ],
   "source": [
    "# Resposta\n",
    "\n",
    "# Creem una llista amb nombres enters aleatoris:\n",
    "\n",
    "random_nums = [random.randint(0, 10) for x in range(10)]\n",
    "print(random_nums)\n",
    "\n",
    "\n",
    "def coincideix_Index(llista):\n",
    "    res =  [i for i in range(len(llista)) if llista[i] == i] \n",
    "    print(\"Els elements que coincideixen són: \", res)\n",
    "    \n",
    "coincideix_Index(random_nums)   "
   ]
  }
 ],
 "metadata": {
  "hide_input": false,
  "kernelspec": {
   "display_name": "Python 3",
   "language": "python",
   "name": "python3"
  },
  "language_info": {
   "codemirror_mode": {
    "name": "ipython",
    "version": 3
   },
   "file_extension": ".py",
   "mimetype": "text/x-python",
   "name": "python",
   "nbconvert_exporter": "python",
   "pygments_lexer": "ipython3",
   "version": "3.8.5"
  },
  "latex_envs": {
   "LaTeX_envs_menu_present": true,
   "autoclose": false,
   "autocomplete": true,
   "bibliofile": "biblio.bib",
   "cite_by": "apalike",
   "current_citInitial": 1,
   "eqLabelWithNumbers": true,
   "eqNumInitial": 1,
   "hotkeys": {
    "equation": "Ctrl-E",
    "itemize": "Ctrl-I"
   },
   "labels_anchors": false,
   "latex_user_defs": false,
   "report_style_numbering": false,
   "user_envs_cfg": false
  },
  "toc": {
   "base_numbering": 1,
   "nav_menu": {},
   "number_sections": true,
   "sideBar": true,
   "skip_h1_title": false,
   "title_cell": "Table of Contents",
   "title_sidebar": "Contents",
   "toc_cell": false,
   "toc_position": {},
   "toc_section_display": true,
   "toc_window_display": false
  },
  "varInspector": {
   "cols": {
    "lenName": 16,
    "lenType": 16,
    "lenVar": 40
   },
   "kernels_config": {
    "python": {
     "delete_cmd_postfix": "",
     "delete_cmd_prefix": "del ",
     "library": "var_list.py",
     "varRefreshCmd": "print(var_dic_list())"
    },
    "r": {
     "delete_cmd_postfix": ") ",
     "delete_cmd_prefix": "rm(",
     "library": "var_list.r",
     "varRefreshCmd": "cat(var_dic_list()) "
    }
   },
   "types_to_exclude": [
    "module",
    "function",
    "builtin_function_or_method",
    "instance",
    "_Feature"
   ],
   "window_display": false
  }
 },
 "nbformat": 4,
 "nbformat_minor": 4
}
