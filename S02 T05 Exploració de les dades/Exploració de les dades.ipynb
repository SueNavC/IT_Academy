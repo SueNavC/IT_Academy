{
 "cells": [
  {
   "cell_type": "markdown",
   "metadata": {},
   "source": [
    "# S02 T05 Exploració de les dades"
   ]
  },
  {
   "cell_type": "markdown",
   "metadata": {},
   "source": [
    "### Exercici 1"
   ]
  },
  {
   "cell_type": "markdown",
   "metadata": {},
   "source": [
    "Descarrega el [data set Airlines Delay: Airline](https://www.kaggle.com/datasets/giovamata/airlinedelaycauses) on-time statistics and delay causes i carrega’l a un pandas Dataframe. Explora les dades que conté, i queda’t únicament amb les columnes que consideris rellevants."
   ]
  },
  {
   "cell_type": "code",
   "execution_count": 1,
   "metadata": {},
   "outputs": [
    {
     "data": {
      "text/html": [
       "<div>\n",
       "<style scoped>\n",
       "    .dataframe tbody tr th:only-of-type {\n",
       "        vertical-align: middle;\n",
       "    }\n",
       "\n",
       "    .dataframe tbody tr th {\n",
       "        vertical-align: top;\n",
       "    }\n",
       "\n",
       "    .dataframe thead th {\n",
       "        text-align: right;\n",
       "    }\n",
       "</style>\n",
       "<table border=\"1\" class=\"dataframe\">\n",
       "  <thead>\n",
       "    <tr style=\"text-align: right;\">\n",
       "      <th></th>\n",
       "      <th>Year</th>\n",
       "      <th>Month</th>\n",
       "      <th>DayofMonth</th>\n",
       "      <th>DayOfWeek</th>\n",
       "      <th>DepTime</th>\n",
       "      <th>CRSDepTime</th>\n",
       "      <th>ArrTime</th>\n",
       "      <th>CRSArrTime</th>\n",
       "      <th>UniqueCarrier</th>\n",
       "      <th>FlightNum</th>\n",
       "      <th>...</th>\n",
       "      <th>TaxiIn</th>\n",
       "      <th>TaxiOut</th>\n",
       "      <th>Cancelled</th>\n",
       "      <th>CancellationCode</th>\n",
       "      <th>Diverted</th>\n",
       "      <th>CarrierDelay</th>\n",
       "      <th>WeatherDelay</th>\n",
       "      <th>NASDelay</th>\n",
       "      <th>SecurityDelay</th>\n",
       "      <th>LateAircraftDelay</th>\n",
       "    </tr>\n",
       "  </thead>\n",
       "  <tbody>\n",
       "    <tr>\n",
       "      <th>0</th>\n",
       "      <td>2008</td>\n",
       "      <td>1</td>\n",
       "      <td>3</td>\n",
       "      <td>4</td>\n",
       "      <td>1343.0</td>\n",
       "      <td>1325</td>\n",
       "      <td>1451.0</td>\n",
       "      <td>1435</td>\n",
       "      <td>WN</td>\n",
       "      <td>588</td>\n",
       "      <td>...</td>\n",
       "      <td>4.0</td>\n",
       "      <td>9.0</td>\n",
       "      <td>0</td>\n",
       "      <td>NaN</td>\n",
       "      <td>0</td>\n",
       "      <td>16.0</td>\n",
       "      <td>0.0</td>\n",
       "      <td>0.0</td>\n",
       "      <td>0.0</td>\n",
       "      <td>0.0</td>\n",
       "    </tr>\n",
       "    <tr>\n",
       "      <th>1</th>\n",
       "      <td>2008</td>\n",
       "      <td>1</td>\n",
       "      <td>3</td>\n",
       "      <td>4</td>\n",
       "      <td>1125.0</td>\n",
       "      <td>1120</td>\n",
       "      <td>1247.0</td>\n",
       "      <td>1245</td>\n",
       "      <td>WN</td>\n",
       "      <td>1343</td>\n",
       "      <td>...</td>\n",
       "      <td>3.0</td>\n",
       "      <td>8.0</td>\n",
       "      <td>0</td>\n",
       "      <td>NaN</td>\n",
       "      <td>0</td>\n",
       "      <td>NaN</td>\n",
       "      <td>NaN</td>\n",
       "      <td>NaN</td>\n",
       "      <td>NaN</td>\n",
       "      <td>NaN</td>\n",
       "    </tr>\n",
       "    <tr>\n",
       "      <th>2</th>\n",
       "      <td>2008</td>\n",
       "      <td>1</td>\n",
       "      <td>3</td>\n",
       "      <td>4</td>\n",
       "      <td>2009.0</td>\n",
       "      <td>2015</td>\n",
       "      <td>2136.0</td>\n",
       "      <td>2140</td>\n",
       "      <td>WN</td>\n",
       "      <td>3841</td>\n",
       "      <td>...</td>\n",
       "      <td>2.0</td>\n",
       "      <td>14.0</td>\n",
       "      <td>0</td>\n",
       "      <td>NaN</td>\n",
       "      <td>0</td>\n",
       "      <td>NaN</td>\n",
       "      <td>NaN</td>\n",
       "      <td>NaN</td>\n",
       "      <td>NaN</td>\n",
       "      <td>NaN</td>\n",
       "    </tr>\n",
       "  </tbody>\n",
       "</table>\n",
       "<p>3 rows × 29 columns</p>\n",
       "</div>"
      ],
      "text/plain": [
       "   Year  Month  DayofMonth  DayOfWeek  DepTime  CRSDepTime  ArrTime  \\\n",
       "0  2008      1           3          4   1343.0        1325   1451.0   \n",
       "1  2008      1           3          4   1125.0        1120   1247.0   \n",
       "2  2008      1           3          4   2009.0        2015   2136.0   \n",
       "\n",
       "   CRSArrTime UniqueCarrier  FlightNum  ... TaxiIn  TaxiOut  Cancelled  \\\n",
       "0        1435            WN        588  ...    4.0      9.0          0   \n",
       "1        1245            WN       1343  ...    3.0      8.0          0   \n",
       "2        2140            WN       3841  ...    2.0     14.0          0   \n",
       "\n",
       "   CancellationCode  Diverted  CarrierDelay WeatherDelay NASDelay  \\\n",
       "0               NaN         0          16.0          0.0      0.0   \n",
       "1               NaN         0           NaN          NaN      NaN   \n",
       "2               NaN         0           NaN          NaN      NaN   \n",
       "\n",
       "   SecurityDelay  LateAircraftDelay  \n",
       "0            0.0                0.0  \n",
       "1            NaN                NaN  \n",
       "2            NaN                NaN  \n",
       "\n",
       "[3 rows x 29 columns]"
      ]
     },
     "execution_count": 1,
     "metadata": {},
     "output_type": "execute_result"
    }
   ],
   "source": [
    "# Asignem el dataset a una variable i llegim les primeres 5 files\n",
    "\n",
    "import numpy as np\n",
    "import pandas as pd\n",
    "import pandas as pd\n",
    "import numpy as np\n",
    "import matplotlib.pyplot as plt\n",
    "import seaborn as sns\n",
    "from datetime import timedelta\n",
    "\n",
    "\n",
    "df = pd.read_csv('./dataset/Airlines_Delay_2008.csv', delimiter=\",\", decimal=\".\", encoding ='unicode_escape')\n",
    "df.head(3)\n"
   ]
  },
  {
   "cell_type": "code",
   "execution_count": 2,
   "metadata": {},
   "outputs": [
    {
     "name": "stdout",
     "output_type": "stream",
     "text": [
      "                 Name                                        Description\n",
      "0                Year                                          1987-2008\n",
      "1               Month                                             12-Jan\n",
      "2          DayofMonth                                             31-Jan\n",
      "3           DayOfWeek                            1 (Monday) - 7 (Sunday)\n",
      "4             DepTime                actual departure time (local, hhmm)\n",
      "5          CRSDepTime             scheduled departure time (local, hhmm)\n",
      "6             ArrTime                  actual arrival time (local, hhmm)\n",
      "7          CRSArrTime               scheduled arrival time (local, hhmm)\n",
      "8       UniqueCarrier                                unique carrier code\n",
      "9           FlightNum                                      flight number\n",
      "10            TailNum                                  plane tail number\n",
      "11  ActualElapsedTime                                         in minutes\n",
      "12     CRSElapsedTime                                         in minutes\n",
      "13            AirTime                                         in minutes\n",
      "14           ArrDelay                          arrival delay, in minutes\n",
      "15           DepDelay                        departure delay, in minutes\n",
      "16             Origin                           origin IATA airport code\n",
      "17               Dest                      destination IATA airport code\n",
      "18           Distance                                           in miles\n",
      "19             TaxiIn                           taxi in time, in minutes\n",
      "20            TaxiOut                           taxi out time in minutes\n",
      "21          Cancelled                          was the flight cancelled?\n",
      "22   CancellationCode  reason for cancellation (A = carrier, B = weat...\n",
      "23           Diverted                                    1 = yes, 0 = no\n",
      "24       CarrierDelay                                         in minutes\n",
      "25       WeatherDelay                                         in minutes\n",
      "26           NASDelay                                         in minutes\n",
      "27      SecurityDelay                                         in minutes\n",
      "28  LateAircraftDelay                                         in minutes\n"
     ]
    }
   ],
   "source": [
    "# Llistem les variables que conté el dataset\n",
    "\n",
    "df_variables  = pd.read_excel(io = './dataset/variable_descriptions_excel.xlsx')\n",
    "print(df_variables)"
   ]
  },
  {
   "cell_type": "markdown",
   "metadata": {},
   "source": [
    "## Preparant el dataset"
   ]
  },
  {
   "cell_type": "code",
   "execution_count": 2,
   "metadata": {},
   "outputs": [
    {
     "data": {
      "text/html": [
       "<div>\n",
       "<style scoped>\n",
       "    .dataframe tbody tr th:only-of-type {\n",
       "        vertical-align: middle;\n",
       "    }\n",
       "\n",
       "    .dataframe tbody tr th {\n",
       "        vertical-align: top;\n",
       "    }\n",
       "\n",
       "    .dataframe thead th {\n",
       "        text-align: right;\n",
       "    }\n",
       "</style>\n",
       "<table border=\"1\" class=\"dataframe\">\n",
       "  <thead>\n",
       "    <tr style=\"text-align: right;\">\n",
       "      <th></th>\n",
       "      <th>Code</th>\n",
       "      <th>Description</th>\n",
       "    </tr>\n",
       "  </thead>\n",
       "  <tbody>\n",
       "    <tr>\n",
       "      <th>0</th>\n",
       "      <td>02Q</td>\n",
       "      <td>Titan Airways</td>\n",
       "    </tr>\n",
       "    <tr>\n",
       "      <th>1</th>\n",
       "      <td>04Q</td>\n",
       "      <td>Tradewind Aviation</td>\n",
       "    </tr>\n",
       "    <tr>\n",
       "      <th>2</th>\n",
       "      <td>05Q</td>\n",
       "      <td>Comlux Aviation, AG</td>\n",
       "    </tr>\n",
       "    <tr>\n",
       "      <th>3</th>\n",
       "      <td>06Q</td>\n",
       "      <td>Master Top Linhas Aereas Ltd.</td>\n",
       "    </tr>\n",
       "    <tr>\n",
       "      <th>4</th>\n",
       "      <td>07Q</td>\n",
       "      <td>Flair Airlines Ltd.</td>\n",
       "    </tr>\n",
       "  </tbody>\n",
       "</table>\n",
       "</div>"
      ],
      "text/plain": [
       "  Code                    Description\n",
       "0  02Q                  Titan Airways\n",
       "1  04Q             Tradewind Aviation\n",
       "2  05Q            Comlux Aviation, AG\n",
       "3  06Q  Master Top Linhas Aereas Ltd.\n",
       "4  07Q            Flair Airlines Ltd."
      ]
     },
     "execution_count": 2,
     "metadata": {},
     "output_type": "execute_result"
    }
   ],
   "source": [
    "carrier = pd.read_csv('./dataset/carriers.csv', delimiter=\",\", decimal=\".\", encoding ='unicode_escape')\n",
    "carrier.head(5)"
   ]
  },
  {
   "cell_type": "code",
   "execution_count": 3,
   "metadata": {},
   "outputs": [
    {
     "name": "stdout",
     "output_type": "stream",
     "text": [
      "  COD_OP                      AEROLINIA\n",
      "0    02Q                  Titan Airways\n",
      "1    04Q             Tradewind Aviation\n",
      "2    05Q            Comlux Aviation, AG\n",
      "3    06Q  Master Top Linhas Aereas Ltd.\n",
      "4    07Q            Flair Airlines Ltd.\n"
     ]
    }
   ],
   "source": [
    "carrier_columns = list(carrier.columns)\n",
    "carrier2_columns = ['COD_OP', 'AEROLINIA']\n",
    "\n",
    "zip_columns = dict(zip(carrier_columns, carrier2_columns))\n",
    "carrier.rename(columns = zip_columns, inplace=True)\n",
    "print(carrier.head(5))"
   ]
  },
  {
   "cell_type": "code",
   "execution_count": 4,
   "metadata": {},
   "outputs": [
    {
     "name": "stdout",
     "output_type": "stream",
     "text": [
      "<class 'pandas.core.frame.DataFrame'>\n",
      "RangeIndex: 2389217 entries, 0 to 2389216\n",
      "Data columns (total 26 columns):\n",
      " #   Column             Dtype  \n",
      "---  ------             -----  \n",
      " 0   Year               int64  \n",
      " 1   Month              int64  \n",
      " 2   DayofMonth         int64  \n",
      " 3   DayOfWeek          int64  \n",
      " 4   DepTime            float64\n",
      " 5   CRSDepTime         int64  \n",
      " 6   ArrTime            float64\n",
      " 7   CRSArrTime         int64  \n",
      " 8   UniqueCarrier      object \n",
      " 9   FlightNum          int64  \n",
      " 10  ActualElapsedTime  float64\n",
      " 11  CRSElapsedTime     float64\n",
      " 12  AirTime            float64\n",
      " 13  ArrDelay           float64\n",
      " 14  DepDelay           float64\n",
      " 15  Origin             object \n",
      " 16  Dest               object \n",
      " 17  Distance           int64  \n",
      " 18  Cancelled          int64  \n",
      " 19  CancellationCode   object \n",
      " 20  Diverted           int64  \n",
      " 21  CarrierDelay       float64\n",
      " 22  WeatherDelay       float64\n",
      " 23  NASDelay           float64\n",
      " 24  SecurityDelay      float64\n",
      " 25  LateAircraftDelay  float64\n",
      "dtypes: float64(12), int64(10), object(4)\n",
      "memory usage: 473.9+ MB\n",
      "None\n"
     ]
    }
   ],
   "source": [
    "# Esborrem les columnes que considerem menys rellevants per analisis estadístic\n",
    "df.drop(['TailNum', 'TaxiIn', 'TaxiOut'], axis = 1, inplace=True)\n",
    "print(df.info())"
   ]
  },
  {
   "cell_type": "code",
   "execution_count": 5,
   "metadata": {},
   "outputs": [
    {
     "name": "stdout",
     "output_type": "stream",
     "text": [
      "<class 'pandas.core.frame.DataFrame'>\n",
      "RangeIndex: 2389217 entries, 0 to 2389216\n",
      "Data columns (total 26 columns):\n",
      " #   Column             Dtype  \n",
      "---  ------             -----  \n",
      " 0   Year               int32  \n",
      " 1   Month              int32  \n",
      " 2   DayofMonth         int32  \n",
      " 3   DayOfWeek          int32  \n",
      " 4   DepTime            float32\n",
      " 5   CRSDepTime         int32  \n",
      " 6   ArrTime            float32\n",
      " 7   CRSArrTime         int32  \n",
      " 8   UniqueCarrier      object \n",
      " 9   FlightNum          int32  \n",
      " 10  ActualElapsedTime  float32\n",
      " 11  CRSElapsedTime     float32\n",
      " 12  AirTime            float32\n",
      " 13  ArrDelay           float32\n",
      " 14  DepDelay           float32\n",
      " 15  Origin             object \n",
      " 16  Dest               object \n",
      " 17  Distance           int32  \n",
      " 18  Cancelled          int32  \n",
      " 19  CancellationCode   object \n",
      " 20  Diverted           int32  \n",
      " 21  CarrierDelay       float32\n",
      " 22  WeatherDelay       float32\n",
      " 23  NASDelay           float32\n",
      " 24  SecurityDelay      float32\n",
      " 25  LateAircraftDelay  float32\n",
      "dtypes: float32(12), int32(10), object(4)\n",
      "memory usage: 273.4+ MB\n"
     ]
    }
   ],
   "source": [
    "# Convertim el type int64 a int32 i float64 a float32 per optimitzar el rendiment\n",
    "\n",
    "df[df.select_dtypes(np.float64).columns] = df.select_dtypes(np.float64).astype(np.float32)\n",
    "df[df.select_dtypes(np.int64).columns] = df.select_dtypes(np.int64).astype(np.int32)\n",
    "\n",
    "df.info()"
   ]
  },
  {
   "cell_type": "code",
   "execution_count": 13,
   "metadata": {},
   "outputs": [
    {
     "name": "stdout",
     "output_type": "stream",
     "text": [
      "Número de entrades duplicades\n",
      " 4\n",
      "Número de valors nuls:\n",
      " Year                       0\n",
      "Month                      0\n",
      "DayofMonth                 0\n",
      "DayOfWeek                  0\n",
      "DepTime                64442\n",
      "CRSDepTime                 0\n",
      "ArrTime                70096\n",
      "CRSArrTime                 0\n",
      "UniqueCarrier              0\n",
      "FlightNum                  0\n",
      "ActualElapsedTime      70096\n",
      "CRSElapsedTime           407\n",
      "AirTime                70096\n",
      "ArrDelay               70096\n",
      "DepDelay               64442\n",
      "Origin                     0\n",
      "Dest                       0\n",
      "Distance                   0\n",
      "Cancelled                  0\n",
      "CancellationCode     2324775\n",
      "Diverted                   0\n",
      "CarrierDelay         1804634\n",
      "WeatherDelay         1804634\n",
      "NASDelay             1804634\n",
      "SecurityDelay        1804634\n",
      "LateAircraftDelay    1804634\n",
      "dtype: int64\n",
      "\n",
      "Tenim un total de 2389217 entrades.\n",
      "\n"
     ]
    }
   ],
   "source": [
    "# Mostrem si hi ha valors duplicats i valors nuls (=Nan)\n",
    "print('Número de entrades duplicades\\n', df.duplicated().sum() )\n",
    "print('Número de valors nuls:\\n', df.isna().sum())\n",
    "\n",
    "# Eliminem les files duplicades\n",
    "df.drop_duplicates()\n",
    "df.dropna(how='all', axis = 1)\n",
    "\n",
    "print('\\nTenim un total de {} entrades.\\n'.format(len(df)) )"
   ]
  },
  {
   "cell_type": "code",
   "execution_count": 6,
   "metadata": {
    "code_folding": []
   },
   "outputs": [
    {
     "name": "stdout",
     "output_type": "stream",
     "text": [
      "    ANO  MES  DIA  SEMANA  HR_SALIDA  HP_SALIDA  HR_LLEGADA  HP_LLEGADA  \\\n",
      "0  2008    1    3       4     1343.0       1325      1451.0        1435   \n",
      "1  2008    1    3       4     1125.0       1120      1247.0        1245   \n",
      "2  2008    1    3       4     2009.0       2015      2136.0        2140   \n",
      "\n",
      "  COD_OP  NUM_VUELO  ...  COD_DESTINO  DISTANCIA  CANCELADO  COD_CANCEL  \\\n",
      "0     WN        588  ...          LIT        393          0         NaN   \n",
      "1     WN       1343  ...          MAF        441          0         NaN   \n",
      "2     WN       3841  ...          MAF        441          0         NaN   \n",
      "\n",
      "   DESVIADO RET_OP RET_CLIMA  RET_CNATU  RET_SEG RET_AVION  \n",
      "0         0   16.0       0.0        0.0      0.0       0.0  \n",
      "1         0    NaN       NaN        NaN      NaN       NaN  \n",
      "2         0    NaN       NaN        NaN      NaN       NaN  \n",
      "\n",
      "[3 rows x 26 columns]\n"
     ]
    }
   ],
   "source": [
    "# Canviem els noms de les columnes per noms més descriptius\n",
    "\n",
    "df1_columns = list(df.columns)\n",
    "\n",
    "df2_columns = ['ANO', 'MES', 'DIA', 'SEMANA', 'HR_SALIDA', 'HP_SALIDA', 'HR_LLEGADA', \n",
    "               'HP_LLEGADA', 'COD_OP', 'NUM_VUELO', 'DURACION', 'DURACION_EST', 'TIEMPO_VUELO', \n",
    "               'RET_LLEGADA', 'RET_SALIDA', 'COD_ORIGEN', 'COD_DESTINO', 'DISTANCIA', 'CANCELADO', 'COD_CANCEL',\n",
    "               'DESVIADO', 'RET_OP', 'RET_CLIMA', 'RET_CNATU', 'RET_SEG', 'RET_AVION']\n",
    "\n",
    "zip_columns = dict(zip(df1_columns, df2_columns))\n",
    "df.rename(columns = zip_columns, inplace=True)\n",
    "print(df.head(3))"
   ]
  },
  {
   "cell_type": "markdown",
   "metadata": {},
   "source": [
    "### Exercici 2"
   ]
  },
  {
   "cell_type": "markdown",
   "metadata": {},
   "source": [
    "Fes un informe complet del data set:.\n",
    "\n",
    "- Resumeix estadísticament les columnes d’interès\n",
    "- Troba quantes dades faltants hi ha per columna\n",
    "- Crea columnes noves (velocitat mitjana del vol, si ha arribat tard o no...)\n",
    "- Taula de les aerolínies amb més endarreriments acumulats\n",
    "- Quins són els vols més llargs? I els més endarrerits?\n",
    "- Etc."
   ]
  },
  {
   "cell_type": "markdown",
   "metadata": {},
   "source": [
    "### Analisis exploratorio"
   ]
  },
  {
   "cell_type": "code",
   "execution_count": 31,
   "metadata": {},
   "outputs": [
    {
     "data": {
      "image/png": "[encoded data removed]",
      "text/plain": [
       "<Figure size 1008x1008 with 2 Axes>"
      ]
     },
     "metadata": {
      "needs_background": "light"
     },
     "output_type": "display_data"
    }
   ],
   "source": [
    "#Matriz de correlacion\n",
    "\n",
    "corr_df = df.corr(method='pearson')\n",
    "\n",
    "plt.figure(figsize=(14, 14))\n",
    "sns.heatmap(corr_df, annot=True, fmt='.2f', annot_kws={'size': 8})\n",
    "plt.show()"
   ]
  },
  {
   "cell_type": "markdown",
   "metadata": {},
   "source": [
    "Veïem correlacions fortes entre 'HR_SALIDA' i 'HP_SALIDA' amb 'HR_LLDEGADA' i 'HP_LLEGADA', como era d'esperar. Per altre banda, no existeix una correlació entre 'CANCELADO' amb cap de les causes de RETARD ('RET_OP', 'RET_CLIMA', 'RET_CNATU', 'RET_SEG', 'RET_AVION'), obviament, ya que si el vol está cancelat no pot produir retard. També, observem una forta correlació entre les variables 'DISTANCIA' amb 'DURACIÓN', 'DURACION_EST' i 'TIEMPO_VUELO'. Y, per últim, destacar una correlació  moderada positiva de aprox. 0.5 aprox., tenim les variables: 'RET_SALIDA' i 'RET_LLEGADA' correlacionades amb les variables 'RET_OP' i 'RET_AVION'."
   ]
  },
  {
   "cell_type": "code",
   "execution_count": 7,
   "metadata": {},
   "outputs": [
    {
     "name": "stdout",
     "output_type": "stream",
     "text": [
      "                 count       mean        std   min  25%  50%   75%     max\n",
      "RET_LLEGADA  2319121.0  10.273676  39.555920 -91.0 -9.0  0.0  15.0  2461.0\n",
      "RET_SALIDA   2324775.0  11.442591  36.548691 -92.0 -4.0  0.0  11.0  2467.0\n",
      "RET_OP        584583.0  15.752957  40.075527   0.0  0.0  0.0  16.0  2436.0\n",
      "RET_CLIMA     584583.0   2.938243  19.233011   0.0  0.0  0.0   0.0  1148.0\n",
      "RET_CNATU     584583.0  16.158463  30.505213   0.0  0.0  5.0  20.0  1357.0\n",
      "RET_SEG       584583.0   0.080459   1.740871   0.0  0.0  0.0   0.0   392.0\n",
      "RET_AVION     584583.0  20.976709  38.666759   0.0  0.0  0.0  27.0  1254.0\n"
     ]
    }
   ],
   "source": [
    "df_stat = df[['RET_LLEGADA', 'RET_SALIDA', 'RET_OP', 'RET_CLIMA', 'RET_CNATU', 'RET_SEG', 'RET_AVION' ]].describe().T\n",
    "print(df_stat)"
   ]
  },
  {
   "cell_type": "code",
   "execution_count": 8,
   "metadata": {},
   "outputs": [
    {
     "name": "stdout",
     "output_type": "stream",
     "text": [
      " 16:13:00\n",
      " 00:11:05\n",
      " 00:29:28\n",
      " 23:33:51\n",
      " 23:58:08\n",
      " 00:00:42\n",
      " 00:12:42\n",
      " 03:25:00\n"
     ]
    }
   ],
   "source": [
    "# Funció que converteix les dades float en format hora\n",
    "   \n",
    "def convert_toTime(m):\n",
    "    hrs_time = timedelta(hours = 0, minutes = m, seconds = 0)  \n",
    "    hrs, resto = divmod(hrs_time.seconds, 3600) \n",
    "    mi, sec = divmod(resto, 60)    \n",
    "    print(f\" {hrs:02}:{mi:02}:{sec:02}\")\n",
    "    \n",
    "\n",
    "# Mostrem en format time la mitja de les columnes del dataset df_stat:\n",
    "for v in df_stat.mean():\n",
    "    mi = convert_toTime(v)"
   ]
  },
  {
   "cell_type": "code",
   "execution_count": 34,
   "metadata": {},
   "outputs": [
    {
     "name": "stdout",
     "output_type": "stream",
     "text": [
      "RET_OP        9208911.0\n",
      "RET_CLIMA     1717647.0\n",
      "RET_CNATU     9445962.0\n",
      "RET_SEG         47035.0\n",
      "RET_AVION    12262628.0\n",
      "dtype: float32\n"
     ]
    },
    {
     "data": {
      "text/plain": [
       "<AxesSubplot:>"
      ]
     },
     "execution_count": 34,
     "metadata": {},
     "output_type": "execute_result"
    },
    {
     "data": {
      "image/png": "[encoded data removed]",
      "text/plain": [
       "<Figure size 864x576 with 1 Axes>"
      ]
     },
     "metadata": {
      "needs_background": "light"
     },
     "output_type": "display_data"
    }
   ],
   "source": [
    "# Grafiquem les causes de retard. Quines d'elles té més incidència.\n",
    "\n",
    "retard_sum = df[['RET_OP', 'RET_CLIMA', 'RET_CNATU', 'RET_SEG', 'RET_AVION']].sum()\n",
    "print(retard_sum)\n",
    "\n",
    "plt.figure(figsize=(12,8))\n",
    "retard_sum.plot.bar()"
   ]
  },
  {
   "cell_type": "code",
   "execution_count": 9,
   "metadata": {},
   "outputs": [
    {
     "name": "stdout",
     "output_type": "stream",
     "text": [
      "    ANO  MES  DIA  SEMANA  HR_SALIDA  HP_SALIDA  HR_LLEGADA  HP_LLEGADA  \\\n",
      "0  2008    1    3       4     1343.0       1325      1451.0        1435   \n",
      "1  2008    1    3       4     1125.0       1120      1247.0        1245   \n",
      "2  2008    1    3       4     2009.0       2015      2136.0        2140   \n",
      "\n",
      "  COD_OP               AEROLINIA  ...  COD_DESTINO  DISTANCIA  CANCELADO  \\\n",
      "0     WN  Southwest Airlines Co.  ...          LIT        393          0   \n",
      "1     WN  Southwest Airlines Co.  ...          MAF        441          0   \n",
      "2     WN  Southwest Airlines Co.  ...          MAF        441          0   \n",
      "\n",
      "   COD_CANCEL  DESVIADO  RET_OP RET_CLIMA RET_CNATU  RET_SEG  RET_AVION  \n",
      "0         NaN         0    16.0       0.0       0.0      0.0        0.0  \n",
      "1         NaN         0     NaN       NaN       NaN      NaN        NaN  \n",
      "2         NaN         0     NaN       NaN       NaN      NaN        NaN  \n",
      "\n",
      "[3 rows x 27 columns]\n"
     ]
    }
   ],
   "source": [
    "# agreguem el dataset carrier al principal i fem un merge de les columnes 'COD_OP', per conèixer el nom de la aerolinea \n",
    "# en questió\n",
    "\n",
    "df_merged = pd.merge(df, carrier, how='left')\n",
    "df_merged = df_merged[['ANO', 'MES', 'DIA', 'SEMANA', 'HR_SALIDA', 'HP_SALIDA', 'HR_LLEGADA',\n",
    "       'HP_LLEGADA', 'COD_OP', 'AEROLINIA', 'NUM_VUELO', 'DURACION', 'DURACION_EST',\n",
    "       'TIEMPO_VUELO', 'RET_LLEGADA', 'RET_SALIDA', 'COD_ORIGEN',\n",
    "       'COD_DESTINO', 'DISTANCIA', 'CANCELADO', 'COD_CANCEL', 'DESVIADO',\n",
    "       'RET_OP', 'RET_CLIMA', 'RET_CNATU', 'RET_SEG', 'RET_AVION']]\n",
    "print(df_merged.head(3))"
   ]
  },
  {
   "cell_type": "code",
   "execution_count": 10,
   "metadata": {},
   "outputs": [
    {
     "name": "stdout",
     "output_type": "stream",
     "text": [
      "                                                    RET_OP\n",
      "AEROLINIA                                                 \n",
      "Northwest Airlines Inc.                             2436.0\n",
      "American Eagle Airlines Inc.                        1351.0\n",
      "American Airlines Inc.                              1312.0\n",
      "Pinnacle Airlines Inc.                              1094.0\n",
      "United Air Lines Inc.                               1032.0\n",
      "Continental Air Lines Inc.                          1001.0\n",
      "Skywest Airlines Inc.                                990.0\n",
      "Comair Inc.                                          955.0\n",
      "Alaska Airlines Inc.                                 947.0\n",
      "Atlantic Southeast Airlines                          940.0\n",
      "Expressjet Airlines Inc.                             838.0\n",
      "JetBlue Airways                                      834.0\n",
      "Hawaiian Airlines Inc.                               785.0\n",
      "Frontier Airlines Inc.                               703.0\n",
      "Delta Air Lines Inc.                                 699.0\n",
      "US Airways Inc. (Merged with America West 9/05....   689.0\n",
      "Mesa Airlines Inc.                                   606.0\n",
      "AirTran Airways Corporation                          559.0\n",
      "Southwest Airlines Co.                               496.0\n",
      "Aloha Airlines Inc.                                  338.0\n"
     ]
    }
   ],
   "source": [
    "# Taula de les aerolínies amb més endarreriments acumulats\n",
    "\n",
    "aerol_df= df_merged.groupby('AEROLINIA').agg({'RET_OP':'max'}).sort_values(by='RET_OP', ascending=False)\n",
    "print(aerol_df)"
   ]
  },
  {
   "cell_type": "code",
   "execution_count": 11,
   "metadata": {},
   "outputs": [
    {
     "name": "stdout",
     "output_type": "stream",
     "text": [
      "AEROLINIA\n",
      "AirTran Airways Corporation                                                             640625.0\n",
      "Alaska Airlines Inc.                                                                    212352.0\n",
      "Aloha Airlines Inc.                                                                       5368.0\n",
      "American Airlines Inc.                                                                 1297658.0\n",
      "American Eagle Airlines Inc.                                                           1115514.0\n",
      "Atlantic Southeast Airlines                                                             106018.0\n",
      "Comair Inc.                                                                              67556.0\n",
      "Continental Air Lines Inc.                                                              452980.0\n",
      "Delta Air Lines Inc.                                                                    530722.0\n",
      "Expressjet Airlines Inc.                                                                823609.0\n",
      "Frontier Airlines Inc.                                                                   60928.0\n",
      "Hawaiian Airlines Inc.                                                                   13914.0\n",
      "JetBlue Airways                                                                         471566.0\n",
      "Mesa Airlines Inc.                                                                      371599.0\n",
      "Northwest Airlines Inc.                                                                 363735.0\n",
      "Pinnacle Airlines Inc.                                                                  476829.0\n",
      "Skywest Airlines Inc.                                                                   949155.0\n",
      "Southwest Airlines Co.                                                                 2560330.0\n",
      "US Airways Inc. (Merged with America West 9/05. Reporting for both starting 10/07.)     510724.0\n",
      "United Air Lines Inc.                                                                  1231446.0\n",
      "Name: RET_AVION, dtype: float32\n"
     ]
    },
    {
     "data": {
      "text/plain": [
       "<AxesSubplot:xlabel='AEROLINIA'>"
      ]
     },
     "execution_count": 11,
     "metadata": {},
     "output_type": "execute_result"
    },
    {
     "data": {
      "image/png": "[encoded data removed]",
      "text/plain": [
       "<Figure size 864x576 with 1 Axes>"
      ]
     },
     "metadata": {
      "needs_background": "light"
     },
     "output_type": "display_data"
    }
   ],
   "source": [
    "# Volem saber quina earolinea té més retards degut a averíes tècniques de l'avió\n",
    "\n",
    "df_grouped = df_merged.groupby('AEROLINIA')['RET_AVION'].sum()\n",
    "print(df_grouped)\n",
    "\n",
    "plt.figure(figsize=(12, 8))\n",
    "df_grouped.plot.bar()"
   ]
  },
  {
   "cell_type": "code",
   "execution_count": 12,
   "metadata": {
    "run_control": {
     "marked": false
    }
   },
   "outputs": [
    {
     "name": "stdout",
     "output_type": "stream",
     "text": [
      "[4 5 6 7 1 2 3]\n"
     ]
    },
    {
     "data": {
      "text/plain": [
       "Martes       365560\n",
       "Lunes        358942\n",
       "Jueves       350566\n",
       "Miércoles    349831\n",
       "Domingo      347984\n",
       "Sábado       328237\n",
       "Viernes      288097\n",
       "Name: DIA_SEMANA, dtype: int64"
      ]
     },
     "execution_count": 12,
     "metadata": {},
     "output_type": "execute_result"
    }
   ],
   "source": [
    "# Ara necessitem saber el día de la setmana en el qua hi ha més retards\n",
    "dia_unic = df['SEMANA'].unique()\n",
    "print(dia_unic)\n",
    "\n",
    "dia_dict = {1:\"Domingo\", 2:\"Lunes\", 3:\"Martes\", 4:\"Miércoles\", 5:\"Jueves\", 6:\"Viernes\", 7:\"Sábado\"}\n",
    "\n",
    "df['DIA_SEMANA'] = df['SEMANA']\n",
    "df['DIA_SEMANA'] = df['DIA_SEMANA'].map(dia_dict)\n",
    "df['DIA_SEMANA'].value_counts(sort=True)"
   ]
  },
  {
   "cell_type": "code",
   "execution_count": 23,
   "metadata": {},
   "outputs": [
    {
     "name": "stdout",
     "output_type": "stream",
     "text": [
      "0    2383563\n",
      "1       5654\n",
      "Name: DESVIADO, dtype: int64\n",
      "\n",
      "El porcentaje de vuelos desviados: 0.24 \n"
     ]
    }
   ],
   "source": [
    "# % de vuelos desviados:\n",
    "\n",
    "deviados_count = df.DESVIADO.value_counts()\n",
    "print(deviados_count)\n",
    "\n",
    "total_desviados = len(df.DESVIADO)\n",
    "is_desviado = df.apply(lambda x: x['DESVIADO'] == 1, axis = 1).sum()\n",
    "percent_desviados = ( is_desviado / total_desviados) * 100\n",
    "print(\"\\nEl porcentaje de vuelos desviados: {:.2f} \".format(percent_desviados))\n"
   ]
  },
  {
   "cell_type": "code",
   "execution_count": 24,
   "metadata": {
    "code_folding": [],
    "run_control": {
     "marked": false
    }
   },
   "outputs": [
    {
     "name": "stdout",
     "output_type": "stream",
     "text": [
      "0    2324775\n",
      "1      64442\n",
      "Name: CANCELADO, dtype: int64\n",
      "\n",
      "El porcentaje de vuelos cancelados: 2.70\n"
     ]
    }
   ],
   "source": [
    "# % de vuelos cancelados:\n",
    "\n",
    "cancel_count = df.CANCELADO.value_counts()\n",
    "print(cancel_count)\n",
    "\n",
    "total_cancel = len(df.CANCELADO)\n",
    "is_cancel = df.apply(lambda x: x['CANCELADO'] == 1, axis = 1).sum()\n",
    "percent_cancel = ( is_cancel / total_cancel) * 100\n",
    "print(\"\\nEl porcentaje de vuelos cancelados: {:.2f}\".format(percent_cancel))\n"
   ]
  },
  {
   "cell_type": "code",
   "execution_count": 13,
   "metadata": {},
   "outputs": [
    {
     "name": "stdout",
     "output_type": "stream",
     "text": [
      "7986\n",
      "27\n"
     ]
    }
   ],
   "source": [
    "# Convertim les milles a KMs\n",
    "\n",
    "def convert_toKM(m):\n",
    "    km = m * 1.609344\n",
    "    print(round(km))\n",
    "distan_max = df[\"DISTANCIA\"].max()\n",
    "distan_min = df[\"DISTANCIA\"].min()\n",
    "convert_toKM(distan_max)\n",
    "convert_toKM(distan_min)"
   ]
  },
  {
   "cell_type": "code",
   "execution_count": 14,
   "metadata": {},
   "outputs": [
    {
     "name": "stdout",
     "output_type": "stream",
     "text": [
      "AEROLINIA\n",
      "Continental Air Lines Inc.                                                             7986.0\n",
      "Delta Air Lines Inc.                                                                   7245.0\n",
      "United Air Lines Inc.                                                                  6828.0\n",
      "American Airlines Inc.                                                                 6828.0\n",
      "Northwest Airlines Inc.                                                                6392.0\n",
      "US Airways Inc. (Merged with America West 9/05. Reporting for both starting 10/07.)    4794.0\n",
      "Hawaiian Airlines Inc.                                                                 4694.0\n",
      "Alaska Airlines Inc.                                                                   4580.0\n",
      "JetBlue Airways                                                                        4352.0\n",
      "Aloha Airlines Inc.                                                                    4308.0\n",
      "Southwest Airlines Co.                                                                 3803.0\n",
      "AirTran Airways Corporation                                                            3457.0\n",
      "Skywest Airlines Inc.                                                                  3450.0\n",
      "Frontier Airlines Inc.                                                                 2741.0\n",
      "Pinnacle Airlines Inc.                                                                 2704.0\n",
      "Comair Inc.                                                                            2449.0\n",
      "Expressjet Airlines Inc.                                                               2354.0\n",
      "American Eagle Airlines Inc.                                                           2206.0\n",
      "Mesa Airlines Inc.                                                                     2192.0\n",
      "Atlantic Southeast Airlines                                                            1825.0\n",
      "Name: DISTANCIA, dtype: float64\n"
     ]
    },
    {
     "data": {
      "text/plain": [
       "DISTANCIA    None\n",
       "dtype: object"
      ]
     },
     "execution_count": 14,
     "metadata": {},
     "output_type": "execute_result"
    }
   ],
   "source": [
    "# Estudiarem les aerolines que ténen els vols més llargs\n",
    "\n",
    "# Fem un duplicat del dataframe princiapal perque no afecti les operacions o modificiacions \n",
    "df_distan = df_merged.copy()\n",
    "\n",
    "dist_max = df_distan.groupby('AEROLINIA').agg({'DISTANCIA':'max'}).sort_values(by='DISTANCIA', ascending=False)\n",
    "dist_max.apply(convert_toKM)\n"
   ]
  },
  {
   "cell_type": "code",
   "execution_count": 15,
   "metadata": {},
   "outputs": [
    {
     "name": "stdout",
     "output_type": "stream",
     "text": [
      "NUM_VUELO\n",
      "14      7986.0\n",
      "15      7986.0\n",
      "851     7245.0\n",
      "850     7245.0\n",
      "1282    7245.0\n",
      "         ...  \n",
      "6062     108.0\n",
      "6188     108.0\n",
      "5069     103.0\n",
      "4986     103.0\n",
      "9002      48.0\n",
      "Name: DISTANCIA, Length: 7269, dtype: float64\n"
     ]
    },
    {
     "data": {
      "text/plain": [
       "DISTANCIA    None\n",
       "dtype: object"
      ]
     },
     "execution_count": 15,
     "metadata": {},
     "output_type": "execute_result"
    }
   ],
   "source": [
    "# Estudiarem els vols més llargs\n",
    "\n",
    "vuelo_max = df_distan.groupby('NUM_VUELO').agg({'DISTANCIA':'max'}).sort_values(by='DISTANCIA', ascending=False)\n",
    "vuelo_max.apply(convert_toKM)"
   ]
  },
  {
   "cell_type": "code",
   "execution_count": 16,
   "metadata": {},
   "outputs": [
    {
     "data": {
      "text/html": [
       "<div>\n",
       "<style scoped>\n",
       "    .dataframe tbody tr th:only-of-type {\n",
       "        vertical-align: middle;\n",
       "    }\n",
       "\n",
       "    .dataframe tbody tr th {\n",
       "        vertical-align: top;\n",
       "    }\n",
       "\n",
       "    .dataframe thead th {\n",
       "        text-align: right;\n",
       "    }\n",
       "</style>\n",
       "<table border=\"1\" class=\"dataframe\">\n",
       "  <thead>\n",
       "    <tr style=\"text-align: right;\">\n",
       "      <th></th>\n",
       "      <th>NUM_VUELO</th>\n",
       "      <th>AEROLINIA</th>\n",
       "      <th>DISTANCIA</th>\n",
       "    </tr>\n",
       "  </thead>\n",
       "  <tbody>\n",
       "    <tr>\n",
       "      <th>0</th>\n",
       "      <td>15</td>\n",
       "      <td>Continental Air Lines Inc.</td>\n",
       "      <td>4962</td>\n",
       "    </tr>\n",
       "    <tr>\n",
       "      <th>1</th>\n",
       "      <td>14</td>\n",
       "      <td>Continental Air Lines Inc.</td>\n",
       "      <td>4962</td>\n",
       "    </tr>\n",
       "    <tr>\n",
       "      <th>2</th>\n",
       "      <td>850</td>\n",
       "      <td>Delta Air Lines Inc.</td>\n",
       "      <td>4502</td>\n",
       "    </tr>\n",
       "    <tr>\n",
       "      <th>3</th>\n",
       "      <td>851</td>\n",
       "      <td>Delta Air Lines Inc.</td>\n",
       "      <td>4502</td>\n",
       "    </tr>\n",
       "    <tr>\n",
       "      <th>4</th>\n",
       "      <td>1273</td>\n",
       "      <td>Delta Air Lines Inc.</td>\n",
       "      <td>4502</td>\n",
       "    </tr>\n",
       "    <tr>\n",
       "      <th>...</th>\n",
       "      <td>...</td>\n",
       "      <td>...</td>\n",
       "      <td>...</td>\n",
       "    </tr>\n",
       "    <tr>\n",
       "      <th>23315</th>\n",
       "      <td>5457</td>\n",
       "      <td>Skywest Airlines Inc.</td>\n",
       "      <td>49</td>\n",
       "    </tr>\n",
       "    <tr>\n",
       "      <th>23316</th>\n",
       "      <td>5458</td>\n",
       "      <td>Skywest Airlines Inc.</td>\n",
       "      <td>49</td>\n",
       "    </tr>\n",
       "    <tr>\n",
       "      <th>23317</th>\n",
       "      <td>5514</td>\n",
       "      <td>Skywest Airlines Inc.</td>\n",
       "      <td>49</td>\n",
       "    </tr>\n",
       "    <tr>\n",
       "      <th>23318</th>\n",
       "      <td>9002</td>\n",
       "      <td>JetBlue Airways</td>\n",
       "      <td>30</td>\n",
       "    </tr>\n",
       "    <tr>\n",
       "      <th>23319</th>\n",
       "      <td>1668</td>\n",
       "      <td>American Airlines Inc.</td>\n",
       "      <td>21</td>\n",
       "    </tr>\n",
       "  </tbody>\n",
       "</table>\n",
       "<p>23320 rows × 3 columns</p>\n",
       "</div>"
      ],
      "text/plain": [
       "       NUM_VUELO                   AEROLINIA  DISTANCIA\n",
       "0             15  Continental Air Lines Inc.       4962\n",
       "1             14  Continental Air Lines Inc.       4962\n",
       "2            850        Delta Air Lines Inc.       4502\n",
       "3            851        Delta Air Lines Inc.       4502\n",
       "4           1273        Delta Air Lines Inc.       4502\n",
       "...          ...                         ...        ...\n",
       "23315       5457       Skywest Airlines Inc.         49\n",
       "23316       5458       Skywest Airlines Inc.         49\n",
       "23317       5514       Skywest Airlines Inc.         49\n",
       "23318       9002             JetBlue Airways         30\n",
       "23319       1668      American Airlines Inc.         21\n",
       "\n",
       "[23320 rows x 3 columns]"
      ]
     },
     "execution_count": 16,
     "metadata": {},
     "output_type": "execute_result"
    }
   ],
   "source": [
    "# Unim ambues taules i tenim les aerolinees i els vols més llargs\n",
    "\n",
    "df_max = df_distan.groupby(['NUM_VUELO','AEROLINIA']).agg({'DISTANCIA':'max'}).sort_values(by='DISTANCIA', ascending=False).reset_index()\n",
    "df_max\n"
   ]
  },
  {
   "cell_type": "code",
   "execution_count": 17,
   "metadata": {},
   "outputs": [
    {
     "data": {
      "text/html": [
       "<div>\n",
       "<style scoped>\n",
       "    .dataframe tbody tr th:only-of-type {\n",
       "        vertical-align: middle;\n",
       "    }\n",
       "\n",
       "    .dataframe tbody tr th {\n",
       "        vertical-align: top;\n",
       "    }\n",
       "\n",
       "    .dataframe thead th {\n",
       "        text-align: right;\n",
       "    }\n",
       "</style>\n",
       "<table border=\"1\" class=\"dataframe\">\n",
       "  <thead>\n",
       "    <tr style=\"text-align: right;\">\n",
       "      <th></th>\n",
       "      <th>NUM_VUELO</th>\n",
       "      <th>AEROLINIA</th>\n",
       "      <th>TOTAL_RET</th>\n",
       "    </tr>\n",
       "  </thead>\n",
       "  <tbody>\n",
       "    <tr>\n",
       "      <th>0</th>\n",
       "      <td>1699</td>\n",
       "      <td>Northwest Airlines Inc.</td>\n",
       "      <td>4920.0</td>\n",
       "    </tr>\n",
       "    <tr>\n",
       "      <th>1</th>\n",
       "      <td>808</td>\n",
       "      <td>Northwest Airlines Inc.</td>\n",
       "      <td>4918.0</td>\n",
       "    </tr>\n",
       "    <tr>\n",
       "      <th>2</th>\n",
       "      <td>1472</td>\n",
       "      <td>Northwest Airlines Inc.</td>\n",
       "      <td>3087.0</td>\n",
       "    </tr>\n",
       "    <tr>\n",
       "      <th>3</th>\n",
       "      <td>1743</td>\n",
       "      <td>Northwest Airlines Inc.</td>\n",
       "      <td>2980.0</td>\n",
       "    </tr>\n",
       "    <tr>\n",
       "      <th>4</th>\n",
       "      <td>2093</td>\n",
       "      <td>American Airlines Inc.</td>\n",
       "      <td>2891.0</td>\n",
       "    </tr>\n",
       "    <tr>\n",
       "      <th>...</th>\n",
       "      <td>...</td>\n",
       "      <td>...</td>\n",
       "      <td>...</td>\n",
       "    </tr>\n",
       "    <tr>\n",
       "      <th>23315</th>\n",
       "      <td>6444</td>\n",
       "      <td>Skywest Airlines Inc.</td>\n",
       "      <td>NaN</td>\n",
       "    </tr>\n",
       "    <tr>\n",
       "      <th>23316</th>\n",
       "      <td>6468</td>\n",
       "      <td>Skywest Airlines Inc.</td>\n",
       "      <td>NaN</td>\n",
       "    </tr>\n",
       "    <tr>\n",
       "      <th>23317</th>\n",
       "      <td>6641</td>\n",
       "      <td>Skywest Airlines Inc.</td>\n",
       "      <td>NaN</td>\n",
       "    </tr>\n",
       "    <tr>\n",
       "      <th>23318</th>\n",
       "      <td>6849</td>\n",
       "      <td>Skywest Airlines Inc.</td>\n",
       "      <td>NaN</td>\n",
       "    </tr>\n",
       "    <tr>\n",
       "      <th>23319</th>\n",
       "      <td>9741</td>\n",
       "      <td>Pinnacle Airlines Inc.</td>\n",
       "      <td>NaN</td>\n",
       "    </tr>\n",
       "  </tbody>\n",
       "</table>\n",
       "<p>23320 rows × 3 columns</p>\n",
       "</div>"
      ],
      "text/plain": [
       "       NUM_VUELO                AEROLINIA  TOTAL_RET\n",
       "0           1699  Northwest Airlines Inc.     4920.0\n",
       "1            808  Northwest Airlines Inc.     4918.0\n",
       "2           1472  Northwest Airlines Inc.     3087.0\n",
       "3           1743  Northwest Airlines Inc.     2980.0\n",
       "4           2093   American Airlines Inc.     2891.0\n",
       "...          ...                      ...        ...\n",
       "23315       6444    Skywest Airlines Inc.        NaN\n",
       "23316       6468    Skywest Airlines Inc.        NaN\n",
       "23317       6641    Skywest Airlines Inc.        NaN\n",
       "23318       6849    Skywest Airlines Inc.        NaN\n",
       "23319       9741   Pinnacle Airlines Inc.        NaN\n",
       "\n",
       "[23320 rows x 3 columns]"
      ]
     },
     "execution_count": 17,
     "metadata": {},
     "output_type": "execute_result"
    }
   ],
   "source": [
    "# les aerolínes i els vols més endarrerits:\n",
    "# Cal sumar tots els retards. Una opció, seria sumar les variables 'RET_LLEGADA' i 'RET_SALIDA' i no ens importen les causes, \n",
    "# ya que estarien incloses en els retards de sortida + retards d'arribada. O, unaltre opció, es sumar les column es de tots els \n",
    "# retards:  'RET_OP', 'RET_CLIMA', 'RET_CNATU', 'RET_SEG', 'RET_AVION'.\n",
    "\n",
    "# Treballarem la primera opció:\n",
    "\n",
    "df_distan['TOTAL_RET'] = df_distan['RET_LLEGADA'] + df_distan['RET_SALIDA' ]\n",
    "\n",
    "\n",
    "ret_max = df_distan.groupby(['NUM_VUELO','AEROLINIA']).agg({'TOTAL_RET':'max'}).sort_values(by= 'TOTAL_RET', ascending=False).reset_index()\n",
    "ret_max\n"
   ]
  },
  {
   "cell_type": "markdown",
   "metadata": {},
   "source": [
    "**Calcular la velocitat:**\n",
    "\n",
    "La velocitat (v) és una cantitat vectorial que medeix el desplaçament (o el canvi en la posició, Δs) sobre el canvi en el temps (Δt), representada per l'ecuació:\n",
    "**v = Δs/Δt**."
   ]
  },
  {
   "cell_type": "code",
   "execution_count": 18,
   "metadata": {},
   "outputs": [
    {
     "data": {
      "text/html": [
       "<div>\n",
       "<style scoped>\n",
       "    .dataframe tbody tr th:only-of-type {\n",
       "        vertical-align: middle;\n",
       "    }\n",
       "\n",
       "    .dataframe tbody tr th {\n",
       "        vertical-align: top;\n",
       "    }\n",
       "\n",
       "    .dataframe thead th {\n",
       "        text-align: right;\n",
       "    }\n",
       "</style>\n",
       "<table border=\"1\" class=\"dataframe\">\n",
       "  <thead>\n",
       "    <tr style=\"text-align: right;\">\n",
       "      <th></th>\n",
       "      <th>NUM_VUELO</th>\n",
       "      <th>AEROLINIA</th>\n",
       "      <th>VEL_VUELO</th>\n",
       "    </tr>\n",
       "  </thead>\n",
       "  <tbody>\n",
       "    <tr>\n",
       "      <th>0</th>\n",
       "      <td>5215</td>\n",
       "      <td>Comair Inc.</td>\n",
       "      <td>0.500000</td>\n",
       "    </tr>\n",
       "    <tr>\n",
       "      <th>1</th>\n",
       "      <td>173</td>\n",
       "      <td>Hawaiian Airlines Inc.</td>\n",
       "      <td>0.560440</td>\n",
       "    </tr>\n",
       "    <tr>\n",
       "      <th>2</th>\n",
       "      <td>5200</td>\n",
       "      <td>Comair Inc.</td>\n",
       "      <td>0.600000</td>\n",
       "    </tr>\n",
       "    <tr>\n",
       "      <th>3</th>\n",
       "      <td>7340</td>\n",
       "      <td>Mesa Airlines Inc.</td>\n",
       "      <td>0.688525</td>\n",
       "    </tr>\n",
       "    <tr>\n",
       "      <th>4</th>\n",
       "      <td>4235</td>\n",
       "      <td>Atlantic Southeast Airlines</td>\n",
       "      <td>0.731034</td>\n",
       "    </tr>\n",
       "    <tr>\n",
       "      <th>...</th>\n",
       "      <td>...</td>\n",
       "      <td>...</td>\n",
       "      <td>...</td>\n",
       "    </tr>\n",
       "    <tr>\n",
       "      <th>23315</th>\n",
       "      <td>6444</td>\n",
       "      <td>Skywest Airlines Inc.</td>\n",
       "      <td>NaN</td>\n",
       "    </tr>\n",
       "    <tr>\n",
       "      <th>23316</th>\n",
       "      <td>6468</td>\n",
       "      <td>Skywest Airlines Inc.</td>\n",
       "      <td>NaN</td>\n",
       "    </tr>\n",
       "    <tr>\n",
       "      <th>23317</th>\n",
       "      <td>6641</td>\n",
       "      <td>Skywest Airlines Inc.</td>\n",
       "      <td>NaN</td>\n",
       "    </tr>\n",
       "    <tr>\n",
       "      <th>23318</th>\n",
       "      <td>6849</td>\n",
       "      <td>Skywest Airlines Inc.</td>\n",
       "      <td>NaN</td>\n",
       "    </tr>\n",
       "    <tr>\n",
       "      <th>23319</th>\n",
       "      <td>9741</td>\n",
       "      <td>Pinnacle Airlines Inc.</td>\n",
       "      <td>NaN</td>\n",
       "    </tr>\n",
       "  </tbody>\n",
       "</table>\n",
       "<p>23320 rows × 3 columns</p>\n",
       "</div>"
      ],
      "text/plain": [
       "       NUM_VUELO                    AEROLINIA  VEL_VUELO\n",
       "0           5215                  Comair Inc.   0.500000\n",
       "1            173       Hawaiian Airlines Inc.   0.560440\n",
       "2           5200                  Comair Inc.   0.600000\n",
       "3           7340           Mesa Airlines Inc.   0.688525\n",
       "4           4235  Atlantic Southeast Airlines   0.731034\n",
       "...          ...                          ...        ...\n",
       "23315       6444        Skywest Airlines Inc.        NaN\n",
       "23316       6468        Skywest Airlines Inc.        NaN\n",
       "23317       6641        Skywest Airlines Inc.        NaN\n",
       "23318       6849        Skywest Airlines Inc.        NaN\n",
       "23319       9741       Pinnacle Airlines Inc.        NaN\n",
       "\n",
       "[23320 rows x 3 columns]"
      ]
     },
     "execution_count": 18,
     "metadata": {},
     "output_type": "execute_result"
    }
   ],
   "source": [
    "# Afegirem una columna que correspongui a la velocitat de cada un dels vols. Les unitats seràn, milles x minuts.\n",
    "\n",
    "df_distan['VEL_VUELO'] = df_distan['DISTANCIA'] / df_distan['TIEMPO_VUELO' ]\n",
    "\n",
    "# Veïem els vols que han sigut més ràpits:\n",
    "\n",
    "vel_max = df_distan.groupby(['NUM_VUELO','AEROLINIA']).agg({'VEL_VUELO':'min'}).sort_values(by= 'VEL_VUELO', ascending=True).reset_index()\n",
    "vel_max\n"
   ]
  },
  {
   "cell_type": "code",
   "execution_count": 32,
   "metadata": {},
   "outputs": [
    {
     "data": {
      "image/png": "[encoded data removed]",
      "text/plain": [
       "<Figure size 432x288 with 2 Axes>"
      ]
     },
     "metadata": {
      "needs_background": "light"
     },
     "output_type": "display_data"
    }
   ],
   "source": [
    "# Volem respondre a la pregunta si els vols més llargs són els més enderrerits y si la velocitat está relacionada.\n",
    "\n",
    "max_dist =  df_distan.loc[:,['TOTAL_RET','DISTANCIA']]\n",
    "correlation_var = max_dist.corr() \n",
    "sns.heatmap(correlation_var, annot = True) \n",
    "plt.show()\n"
   ]
  },
  {
   "cell_type": "markdown",
   "metadata": {},
   "source": [
    "S'observa que la variable 'DISTANCIA' no está correlacionada amb la variable 'TOTAL_RET'. Es a dir, que en els vols llargs no necessariament es produeixen el retards més grans  "
   ]
  },
  {
   "cell_type": "code",
   "execution_count": 19,
   "metadata": {},
   "outputs": [
    {
     "data": {
      "text/html": [
       "<div>\n",
       "<style scoped>\n",
       "    .dataframe tbody tr th:only-of-type {\n",
       "        vertical-align: middle;\n",
       "    }\n",
       "\n",
       "    .dataframe tbody tr th {\n",
       "        vertical-align: top;\n",
       "    }\n",
       "\n",
       "    .dataframe thead th {\n",
       "        text-align: right;\n",
       "    }\n",
       "</style>\n",
       "<table border=\"1\" class=\"dataframe\">\n",
       "  <thead>\n",
       "    <tr style=\"text-align: right;\">\n",
       "      <th></th>\n",
       "      <th>airport</th>\n",
       "      <th>city</th>\n",
       "      <th>state</th>\n",
       "      <th>country</th>\n",
       "      <th>lat</th>\n",
       "      <th>long</th>\n",
       "    </tr>\n",
       "    <tr>\n",
       "      <th>iata</th>\n",
       "      <th></th>\n",
       "      <th></th>\n",
       "      <th></th>\n",
       "      <th></th>\n",
       "      <th></th>\n",
       "      <th></th>\n",
       "    </tr>\n",
       "  </thead>\n",
       "  <tbody>\n",
       "    <tr>\n",
       "      <th>00M</th>\n",
       "      <td>Thigpen</td>\n",
       "      <td>Bay Springs</td>\n",
       "      <td>MS</td>\n",
       "      <td>USA</td>\n",
       "      <td>31.953765</td>\n",
       "      <td>-89.234505</td>\n",
       "    </tr>\n",
       "    <tr>\n",
       "      <th>00R</th>\n",
       "      <td>Livingston Municipal</td>\n",
       "      <td>Livingston</td>\n",
       "      <td>TX</td>\n",
       "      <td>USA</td>\n",
       "      <td>30.685861</td>\n",
       "      <td>-95.017928</td>\n",
       "    </tr>\n",
       "    <tr>\n",
       "      <th>00V</th>\n",
       "      <td>Meadow Lake</td>\n",
       "      <td>Colorado Springs</td>\n",
       "      <td>CO</td>\n",
       "      <td>USA</td>\n",
       "      <td>38.945749</td>\n",
       "      <td>-104.569893</td>\n",
       "    </tr>\n",
       "  </tbody>\n",
       "</table>\n",
       "</div>"
      ],
      "text/plain": [
       "                   airport              city state country        lat  \\\n",
       "iata                                                                    \n",
       "00M               Thigpen        Bay Springs    MS     USA  31.953765   \n",
       "00R   Livingston Municipal        Livingston    TX     USA  30.685861   \n",
       "00V            Meadow Lake  Colorado Springs    CO     USA  38.945749   \n",
       "\n",
       "            long  \n",
       "iata              \n",
       "00M   -89.234505  \n",
       "00R   -95.017928  \n",
       "00V  -104.569893  "
      ]
     },
     "execution_count": 19,
     "metadata": {},
     "output_type": "execute_result"
    }
   ],
   "source": [
    "# Legim el ddataset dels aeroports:\n",
    "\n",
    "df_airports = pd.read_csv('./dataset/airports.csv', sep=',', encoding='utf8', index_col=0)\n",
    "df_airports.head(3)"
   ]
  },
  {
   "cell_type": "code",
   "execution_count": 20,
   "metadata": {},
   "outputs": [
    {
     "name": "stdout",
     "output_type": "stream",
     "text": [
      "Index(['airport', 'city', 'state', 'country', 'lat', 'long'], dtype='object')\n"
     ]
    }
   ],
   "source": [
    "print(df_airports.columns)\n",
    "df_airports.drop(['state', 'lat', 'long'], axis = 1, inplace=True)"
   ]
  },
  {
   "cell_type": "code",
   "execution_count": 21,
   "metadata": {},
   "outputs": [
    {
     "name": "stdout",
     "output_type": "stream",
     "text": [
      "                AEROPUERTO            CIUDAD PAIS\n",
      "iata                                             \n",
      "00M               Thigpen        Bay Springs  USA\n",
      "00R   Livingston Municipal        Livingston  USA\n",
      "00V            Meadow Lake  Colorado Springs  USA\n",
      "\n",
      "Tenim un total de 3376 entrades.\n",
      "\n",
      "Municipal            5\n",
      "Monroe County        5\n",
      "Jackson County       5\n",
      "Lancaster            4\n",
      "Franklin County      4\n",
      "                    ..\n",
      "Wahoo Municipal      1\n",
      "Gratiot Community    1\n",
      "Danville Regional    1\n",
      "Cashmere-Dryden      1\n",
      "Clover               1\n",
      "Name: AEROPUERTO, Length: 3245, dtype: int64\n"
     ]
    }
   ],
   "source": [
    "airports_columns = list(df_airports.columns)\n",
    "airports2_columns = ['AEROPUERTO', 'CIUDAD', 'PAIS']\n",
    "\n",
    "zip_columns = dict(zip(airports_columns, airports2_columns))\n",
    "df_airports.rename(columns = zip_columns, inplace=True)\n",
    "print(df_airports.head(3))\n",
    "print('\\nTenim un total de {} entrades.\\n'.format(len(df_airports)) )\n",
    "print(df_airports['AEROPUERTO'].value_counts())"
   ]
  },
  {
   "cell_type": "code",
   "execution_count": 22,
   "metadata": {},
   "outputs": [
    {
     "data": {
      "text/plain": [
       "Index(['ANO', 'MES', 'DIA', 'SEMANA', 'HR_SALIDA', 'HP_SALIDA', 'HR_LLEGADA',\n",
       "       'HP_LLEGADA', 'COD_OP', 'AEROLINIA', 'NUM_VUELO', 'DURACION',\n",
       "       'DURACION_EST', 'TIEMPO_VUELO', 'RET_LLEGADA', 'RET_SALIDA',\n",
       "       'COD_ORIGEN', 'COD_DESTINO', 'DISTANCIA', 'CANCELADO', 'COD_CANCEL',\n",
       "       'DESVIADO', 'RET_OP', 'RET_CLIMA', 'RET_CNATU', 'RET_SEG', 'RET_AVION',\n",
       "       'TOTAL_RET', 'VEL_VUELO', 'CIUDAD_ORIGEN', 'CIUDAD_DESTINO'],\n",
       "      dtype='object')"
      ]
     },
     "execution_count": 22,
     "metadata": {},
     "output_type": "execute_result"
    }
   ],
   "source": [
    "# Mapejem les seguests columnes:\n",
    "\n",
    "aero_origi = df_distan['COD_ORIGEN'].map(df_airports['AEROPUERTO'])\n",
    "aero_desti = df_distan['COD_DESTINO'].map(df_airports['AEROPUERTO'])\n",
    "\n",
    "city_origi = df_distan['CIUDAD_ORIGEN'] = df_distan['COD_ORIGEN'].map(df_airports['CIUDAD'])\n",
    "city_desti = df_distan['CIUDAD_DESTINO'] = df_distan['COD_DESTINO'].map(df_airports['CIUDAD'])\n",
    "\n",
    "df_distan.columns\n"
   ]
  },
  {
   "cell_type": "code",
   "execution_count": 23,
   "metadata": {},
   "outputs": [
    {
     "data": {
      "text/plain": [
       "Index(['ANO', 'MES', 'DIA', 'SEMANA', 'HR_SALIDA', 'HP_SALIDA', 'HR_LLEGADA',\n",
       "       'HP_LLEGADA', 'COD_OP', 'AEROLINIA', 'NUM_VUELO', 'DURACION',\n",
       "       'DURACION_EST', 'TIEMPO_VUELO', 'RET_LLEGADA', 'RET_SALIDA',\n",
       "       'COD_ORIGEN', 'COD_DESTINO', 'DISTANCIA', 'CANCELADO', 'COD_CANCEL',\n",
       "       'DESVIADO', 'RET_OP', 'RET_CLIMA', 'RET_CNATU', 'RET_SEG', 'RET_AVION',\n",
       "       'TOTAL_RET', 'VEL_VUELO', 'CIUDAD_ORIGEN', 'CIUDAD_DESTINO',\n",
       "       'AERO_ORIGEN', 'AERO_DESTINO'],\n",
       "      dtype='object')"
      ]
     },
     "execution_count": 23,
     "metadata": {},
     "output_type": "execute_result"
    }
   ],
   "source": [
    "# Creem les noves columnes mapeades:\n",
    "\n",
    "df_distan['AERO_ORIGEN'] = aero_origi\n",
    "df_distan['AERO_DESTINO'] = aero_desti\n",
    "\n",
    "df_distan['CIUDAD_ORIGEN'] = city_origi\n",
    "df_distan['CIUDAD_DESTINO'] = city_desti\n",
    "\n",
    "df_distan.columns"
   ]
  },
  {
   "cell_type": "code",
   "execution_count": 24,
   "metadata": {},
   "outputs": [
    {
     "data": {
      "text/html": [
       "<div>\n",
       "<style scoped>\n",
       "    .dataframe tbody tr th:only-of-type {\n",
       "        vertical-align: middle;\n",
       "    }\n",
       "\n",
       "    .dataframe tbody tr th {\n",
       "        vertical-align: top;\n",
       "    }\n",
       "\n",
       "    .dataframe thead th {\n",
       "        text-align: right;\n",
       "    }\n",
       "</style>\n",
       "<table border=\"1\" class=\"dataframe\">\n",
       "  <thead>\n",
       "    <tr style=\"text-align: right;\">\n",
       "      <th></th>\n",
       "      <th>COD_ORIGEN</th>\n",
       "      <th>COD_DESTINO</th>\n",
       "      <th>CIUDAD_ORIGEN</th>\n",
       "      <th>CIUDAD_DESTINO</th>\n",
       "      <th>AERO_ORIGEN</th>\n",
       "      <th>AERO_DESTINO</th>\n",
       "    </tr>\n",
       "  </thead>\n",
       "  <tbody>\n",
       "    <tr>\n",
       "      <th>0</th>\n",
       "      <td>HOU</td>\n",
       "      <td>LIT</td>\n",
       "      <td>Houston</td>\n",
       "      <td>Little Rock</td>\n",
       "      <td>William P Hobby</td>\n",
       "      <td>Adams</td>\n",
       "    </tr>\n",
       "    <tr>\n",
       "      <th>1</th>\n",
       "      <td>HOU</td>\n",
       "      <td>MAF</td>\n",
       "      <td>Houston</td>\n",
       "      <td>Midland</td>\n",
       "      <td>William P Hobby</td>\n",
       "      <td>Midland International</td>\n",
       "    </tr>\n",
       "    <tr>\n",
       "      <th>2</th>\n",
       "      <td>HOU</td>\n",
       "      <td>MAF</td>\n",
       "      <td>Houston</td>\n",
       "      <td>Midland</td>\n",
       "      <td>William P Hobby</td>\n",
       "      <td>Midland International</td>\n",
       "    </tr>\n",
       "    <tr>\n",
       "      <th>3</th>\n",
       "      <td>HOU</td>\n",
       "      <td>MCO</td>\n",
       "      <td>Houston</td>\n",
       "      <td>Orlando</td>\n",
       "      <td>William P Hobby</td>\n",
       "      <td>Orlando International</td>\n",
       "    </tr>\n",
       "    <tr>\n",
       "      <th>4</th>\n",
       "      <td>HOU</td>\n",
       "      <td>MCO</td>\n",
       "      <td>Houston</td>\n",
       "      <td>Orlando</td>\n",
       "      <td>William P Hobby</td>\n",
       "      <td>Orlando International</td>\n",
       "    </tr>\n",
       "    <tr>\n",
       "      <th>...</th>\n",
       "      <td>...</td>\n",
       "      <td>...</td>\n",
       "      <td>...</td>\n",
       "      <td>...</td>\n",
       "      <td>...</td>\n",
       "      <td>...</td>\n",
       "    </tr>\n",
       "    <tr>\n",
       "      <th>2389212</th>\n",
       "      <td>BOS</td>\n",
       "      <td>CVG</td>\n",
       "      <td>Boston</td>\n",
       "      <td>Covington</td>\n",
       "      <td>Gen Edw L Logan Intl</td>\n",
       "      <td>Cincinnati Northern Kentucky Intl</td>\n",
       "    </tr>\n",
       "    <tr>\n",
       "      <th>2389213</th>\n",
       "      <td>CVG</td>\n",
       "      <td>BOS</td>\n",
       "      <td>Covington</td>\n",
       "      <td>Boston</td>\n",
       "      <td>Cincinnati Northern Kentucky Intl</td>\n",
       "      <td>Gen Edw L Logan Intl</td>\n",
       "    </tr>\n",
       "    <tr>\n",
       "      <th>2389214</th>\n",
       "      <td>BOS</td>\n",
       "      <td>CVG</td>\n",
       "      <td>Boston</td>\n",
       "      <td>Covington</td>\n",
       "      <td>Gen Edw L Logan Intl</td>\n",
       "      <td>Cincinnati Northern Kentucky Intl</td>\n",
       "    </tr>\n",
       "    <tr>\n",
       "      <th>2389215</th>\n",
       "      <td>CVG</td>\n",
       "      <td>BOS</td>\n",
       "      <td>Covington</td>\n",
       "      <td>Boston</td>\n",
       "      <td>Cincinnati Northern Kentucky Intl</td>\n",
       "      <td>Gen Edw L Logan Intl</td>\n",
       "    </tr>\n",
       "    <tr>\n",
       "      <th>2389216</th>\n",
       "      <td>BWI</td>\n",
       "      <td>CVG</td>\n",
       "      <td>Baltimore</td>\n",
       "      <td>Covington</td>\n",
       "      <td>Baltimore-Washington International</td>\n",
       "      <td>Cincinnati Northern Kentucky Intl</td>\n",
       "    </tr>\n",
       "  </tbody>\n",
       "</table>\n",
       "<p>2389217 rows × 6 columns</p>\n",
       "</div>"
      ],
      "text/plain": [
       "        COD_ORIGEN COD_DESTINO CIUDAD_ORIGEN CIUDAD_DESTINO  \\\n",
       "0              HOU         LIT       Houston    Little Rock   \n",
       "1              HOU         MAF       Houston        Midland   \n",
       "2              HOU         MAF       Houston        Midland   \n",
       "3              HOU         MCO       Houston        Orlando   \n",
       "4              HOU         MCO       Houston        Orlando   \n",
       "...            ...         ...           ...            ...   \n",
       "2389212        BOS         CVG        Boston      Covington   \n",
       "2389213        CVG         BOS     Covington         Boston   \n",
       "2389214        BOS         CVG        Boston      Covington   \n",
       "2389215        CVG         BOS     Covington         Boston   \n",
       "2389216        BWI         CVG     Baltimore      Covington   \n",
       "\n",
       "                                AERO_ORIGEN                       AERO_DESTINO  \n",
       "0                           William P Hobby                             Adams   \n",
       "1                           William P Hobby              Midland International  \n",
       "2                           William P Hobby              Midland International  \n",
       "3                           William P Hobby              Orlando International  \n",
       "4                           William P Hobby              Orlando International  \n",
       "...                                     ...                                ...  \n",
       "2389212                Gen Edw L Logan Intl  Cincinnati Northern Kentucky Intl  \n",
       "2389213   Cincinnati Northern Kentucky Intl               Gen Edw L Logan Intl  \n",
       "2389214                Gen Edw L Logan Intl  Cincinnati Northern Kentucky Intl  \n",
       "2389215   Cincinnati Northern Kentucky Intl               Gen Edw L Logan Intl  \n",
       "2389216  Baltimore-Washington International  Cincinnati Northern Kentucky Intl  \n",
       "\n",
       "[2389217 rows x 6 columns]"
      ]
     },
     "execution_count": 24,
     "metadata": {},
     "output_type": "execute_result"
    }
   ],
   "source": [
    "# Comprobem les duplicitats en les columnes mapejades:\n",
    "\n",
    "comprovar = df_distan[['COD_ORIGEN', 'COD_DESTINO', 'CIUDAD_ORIGEN', 'CIUDAD_DESTINO', 'AERO_ORIGEN', 'AERO_DESTINO']]\n",
    "comprovar"
   ]
  },
  {
   "cell_type": "code",
   "execution_count": 25,
   "metadata": {},
   "outputs": [],
   "source": [
    "df_distan.drop(columns=['COD_ORIGEN', 'COD_DESTINO'], inplace=True)\n"
   ]
  },
  {
   "cell_type": "code",
   "execution_count": 26,
   "metadata": {},
   "outputs": [
    {
     "data": {
      "text/plain": [
       "Index(['ANO', 'MES', 'DIA', 'SEMANA', 'HR_SALIDA', 'HP_SALIDA', 'HR_LLEGADA',\n",
       "       'HP_LLEGADA', 'COD_OP', 'AEROLINIA', 'NUM_VUELO', 'DURACION',\n",
       "       'DURACION_EST', 'TIEMPO_VUELO', 'RET_LLEGADA', 'RET_SALIDA',\n",
       "       'DISTANCIA', 'CANCELADO', 'COD_CANCEL', 'DESVIADO', 'RET_OP',\n",
       "       'RET_CLIMA', 'RET_CNATU', 'RET_SEG', 'RET_AVION', 'TOTAL_RET',\n",
       "       'VEL_VUELO', 'CIUDAD_ORIGEN', 'CIUDAD_DESTINO', 'AERO_ORIGEN',\n",
       "       'AERO_DESTINO'],\n",
       "      dtype='object')"
      ]
     },
     "execution_count": 26,
     "metadata": {},
     "output_type": "execute_result"
    }
   ],
   "source": [
    "df_distan.columns"
   ]
  },
  {
   "cell_type": "markdown",
   "metadata": {},
   "source": [
    "### Exercici 3"
   ]
  },
  {
   "cell_type": "markdown",
   "metadata": {},
   "source": [
    "Exporta el data set net i amb les noves columnes a Excel."
   ]
  },
  {
   "cell_type": "code",
   "execution_count": 50,
   "metadata": {},
   "outputs": [
    {
     "name": "stdout",
     "output_type": "stream",
     "text": [
      "Requirement already satisfied: openpyxl in c:\\users\\suena\\anaconda3\\lib\\site-packages (3.0.5)\n",
      "Requirement already satisfied: et-xmlfile in c:\\users\\suena\\anaconda3\\lib\\site-packages (from openpyxl) (1.0.1)\n",
      "Requirement already satisfied: jdcal in c:\\users\\suena\\anaconda3\\lib\\site-packages (from openpyxl) (1.4.1)\n"
     ]
    }
   ],
   "source": [
    "!pip install openpyxl"
   ]
  },
  {
   "cell_type": "code",
   "execution_count": null,
   "metadata": {},
   "outputs": [],
   "source": [
    "df_new = df_distan.groupby('AEROLINIA')[['NUM_VUELO', 'TIEMPO_VUELO', 'RET_LLEGADA', 'RET_SALIDA',\n",
    "       'DISTANCIA']]"
   ]
  },
  {
   "cell_type": "code",
   "execution_count": null,
   "metadata": {},
   "outputs": [],
   "source": [
    "df_new.to_csv('Airlines_Delay_2008.csv', index = False, sep = ';')"
   ]
  },
  {
   "cell_type": "markdown",
   "metadata": {},
   "source": [
    "L'arxiu que volem exportar a excel Té moltes observaciones i no és possible sempre i quan no configurem el format de sortida del excel en varies fulles (sheet). En aquest cas opto per no exportar la totalitat de observaciones del dataset. "
   ]
  },
  {
   "cell_type": "code",
   "execution_count": null,
   "metadata": {},
   "outputs": [],
   "source": [
    "group_df = list(df_new)\n",
    "\n",
    "with pd.ExcelWriter('Airlines_Delay_2008.xlsx') as writer:\n",
    "    for i in range(0, len(group_df)):\n",
    "        aero = group_df[i][0]\n",
    "        \n",
    "        if len(aero) > 10: aero = aero[:10] + \"...\"\n",
    "        aero_df = group_df[i][1]\n",
    "        aero_df.to_excel(writer, sheet_name=aero, index=False)\n"
   ]
  },
  {
   "cell_type": "code",
   "execution_count": null,
   "metadata": {},
   "outputs": [],
   "source": []
  }
 ],
 "metadata": {
  "hide_input": false,
  "kernelspec": {
   "display_name": "Python 3",
   "language": "python",
   "name": "python3"
  },
  "language_info": {
   "codemirror_mode": {
    "name": "ipython",
    "version": 3
   },
   "file_extension": ".py",
   "mimetype": "text/x-python",
   "name": "python",
   "nbconvert_exporter": "python",
   "pygments_lexer": "ipython3",
   "version": "3.8.5"
  },
  "latex_envs": {
   "LaTeX_envs_menu_present": true,
   "autoclose": false,
   "autocomplete": true,
   "bibliofile": "biblio.bib",
   "cite_by": "apalike",
   "current_citInitial": 1,
   "eqLabelWithNumbers": true,
   "eqNumInitial": 1,
   "hotkeys": {
    "equation": "Ctrl-E",
    "itemize": "Ctrl-I"
   },
   "labels_anchors": false,
   "latex_user_defs": false,
   "report_style_numbering": false,
   "user_envs_cfg": false
  },
  "toc": {
   "base_numbering": 1,
   "nav_menu": {},
   "number_sections": true,
   "sideBar": true,
   "skip_h1_title": false,
   "title_cell": "Table of Contents",
   "title_sidebar": "Contents",
   "toc_cell": false,
   "toc_position": {},
   "toc_section_display": true,
   "toc_window_display": false
  },
  "varInspector": {
   "cols": {
    "lenName": 16,
    "lenType": 16,
    "lenVar": 40
   },
   "kernels_config": {
    "python": {
     "delete_cmd_postfix": "",
     "delete_cmd_prefix": "del ",
     "library": "var_list.py",
     "varRefreshCmd": "print(var_dic_list())"
    },
    "r": {
     "delete_cmd_postfix": ") ",
     "delete_cmd_prefix": "rm(",
     "library": "var_list.r",
     "varRefreshCmd": "cat(var_dic_list()) "
    }
   },
   "types_to_exclude": [
    "module",
    "function",
    "builtin_function_or_method",
    "instance",
    "_Feature"
   ],
   "window_display": false
  }
 },
 "nbformat": 4,
 "nbformat_minor": 4
}
