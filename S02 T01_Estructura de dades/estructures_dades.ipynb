{
 "cells": [
  {
   "cell_type": "markdown",
   "metadata": {},
   "source": [
    "# S02 T01 Estructura de dades"
   ]
  },
  {
   "cell_type": "markdown",
   "metadata": {},
   "source": [
    "### Exercici 1"
   ]
  },
  {
   "cell_type": "markdown",
   "metadata": {},
   "source": [
    "##### Crea una llista que agrupi els mesos de l’any en trimestres (1T: Gener, Febrer i Març, 2T: Abril, Maig, Juny...), és a dir, una llista amb 4 llistes dins."
   ]
  },
  {
   "cell_type": "code",
   "execution_count": 5,
   "metadata": {},
   "outputs": [
    {
     "name": "stdout",
     "output_type": "stream",
     "text": [
      "[['Gener', 'Febrer', 'Març'], ['Abril', 'Maig', 'Juny'], ['Juriol', 'Agost', 'Septembre'], ['Octubre', 'Novembre', 'Desembre']]\n"
     ]
    }
   ],
   "source": [
    "month_list = [ ['Gener', 'Febrer', 'Març'], \n",
    "               ['Abril', 'Maig', 'Juny'], \n",
    "               ['Juriol', 'Agost', 'Septembre'], \n",
    "               ['Octubre', 'Novembre', 'Desembre']]\n",
    "\n",
    "print(month_list)"
   ]
  },
  {
   "cell_type": "markdown",
   "metadata": {},
   "source": [
    "### Exercici 2"
   ]
  },
  {
   "cell_type": "markdown",
   "metadata": {},
   "source": [
    "Crea un codi que et permeti accedir a:\n",
    "\n",
    "- El segon mes del primer trimestre\n",
    "- Els mesos del primer trimestre\n",
    "- Setembre i octubre"
   ]
  },
  {
   "cell_type": "code",
   "execution_count": 8,
   "metadata": {},
   "outputs": [
    {
     "name": "stdout",
     "output_type": "stream",
     "text": [
      "Febrer\n",
      "[['Gener', 'Febrer', 'Març']]\n",
      "['Septembre', 'Octubre']\n"
     ]
    }
   ],
   "source": [
    "# El segon mes del primer trimestre\n",
    "res1 = month_list[0][1]\n",
    "print(res1)\n",
    "\n",
    "# Els mesos del primer trimestre\n",
    "res2 = month_list[0 :1]\n",
    "print(res2)\n",
    "\n",
    "# Setembre i octubre\n",
    "res3 = [month_list[2][2], month_list[3][0]]\n",
    "print(res3)\n"
   ]
  },
  {
   "cell_type": "markdown",
   "metadata": {},
   "source": [
    "### Exercici 3"
   ]
  },
  {
   "cell_type": "markdown",
   "metadata": {},
   "source": [
    "Crea una llista amb nombres desordenats i respon a les següents preguntes:\n",
    "\n",
    "- Quants números hi ha?\n",
    "- Quantes vegades apareix el número 3\n",
    "- Quantes vegades apareixen els nombres 3 i 4?\n",
    "- Quin és el número més gran?\n",
    "- Quins són els 3 números més petits?\n",
    "- Quin és el rang d’aquesta llista?"
   ]
  },
  {
   "cell_type": "code",
   "execution_count": 28,
   "metadata": {},
   "outputs": [
    {
     "name": "stdout",
     "output_type": "stream",
     "text": [
      "[8, 4, 15, 11, 7, 17, 5, 13, 14, 9]\n",
      "La llista conté: 10 números\n",
      "Repeticions del nombre 3:  0\n",
      "Repeticions dels nombres 3 i 4 al mateix moment:  1\n",
      "El valor màxim de la llista es:  17\n",
      "El tres nombres més petits de la llista són:  [4, 5, 7]\n",
      "El rang de la llista va desde el número 4 fins el número 17.\n"
     ]
    }
   ],
   "source": [
    "# Es crea una llista amb números aleatoris\n",
    "\n",
    "import random   # importem la biblioteca random\n",
    "random_numbers = random.sample(range(20), 10)  # creem el llistat de 10 números entre 0 i 20\n",
    "print(random_numbers)\n",
    "\n",
    "print(\"La llista conté: {} números\".format(len(random_numbers)))\n",
    "\n",
    "print(\"Repeticions del nombre 3: \", random_numbers.count(3))\n",
    "\n",
    "print(\"Repeticions dels nombres 3 i 4 al mateix moment: \", random_numbers.count(3) + random_numbers.count(4))\n",
    "\n",
    "print(\"El valor màxim de la llista es: \", max(random_numbers))\n",
    "\n",
    "# Ordenem la llista i escollirem els e primers nombres amb sort()\n",
    "ordened_numbers = sorted(random_numbers)\n",
    "print(\"El tres nombres més petits de la llista són: \", ordened_numbers[0:3])\n",
    "\n",
    "print(\"El rang de la llista va desde el número {} fins el número {}.\".format(ordened_numbers[0], ordened_numbers[-1]))\n"
   ]
  },
  {
   "cell_type": "markdown",
   "metadata": {},
   "source": [
    "### Exercici 4"
   ]
  },
  {
   "cell_type": "markdown",
   "metadata": {},
   "source": [
    "Crea un diccionari de la següent forma i respon a les preguntes:\n",
    "\n",
    "compra = { \"Pomes\" : {\"Qty\": 5, \"€\": 0.42}, \"Peres\" : {\"Qty\": 3, \"€\": 0.66} }\n",
    "\n",
    "- Afegeix alguna fruita més\n",
    "- Quant han costat les peres en total?\n",
    "- Quantes fruites hem comprat en total?\n",
    "- Quina és la fruita més cara?"
   ]
  },
  {
   "cell_type": "code",
   "execution_count": 30,
   "metadata": {},
   "outputs": [
    {
     "name": "stdout",
     "output_type": "stream",
     "text": [
      "{'Pomes': {'Qty': 5, '€': 0.42}, 'Peres': {'Qty': 3, '€': 0.66}, 'Taronges': {'Qty': 4, '€': 0.52}}\n"
     ]
    }
   ],
   "source": [
    "# Afegeix alguna fruita més\n",
    "\n",
    "compra = { \"Pomes\" : {\"Qty\": 5, \"€\": 0.42}, \n",
    "           \"Peres\" : {\"Qty\": 3, \"€\": 0.66} }\n",
    "\n",
    "compra2 = {\"Taronges\" : {\"Qty\": 4, \"€\": 0.52} } \n",
    "\n",
    "compra.update(compra2)\n",
    "\n",
    "print(compra)"
   ]
  },
  {
   "cell_type": "code",
   "execution_count": 32,
   "metadata": {},
   "outputs": [
    {
     "name": "stdout",
     "output_type": "stream",
     "text": [
      "El preu total de les peres es:  1.98\n"
     ]
    }
   ],
   "source": [
    "# Quant han costat les peres en total\n",
    "\n",
    "pears_price = compra[\"Peres\"][\"Qty\"] * compra[\"Peres\"][\"€\"]\n",
    "print(\"El preu total de les peres es: \", pears_price)"
   ]
  },
  {
   "cell_type": "code",
   "execution_count": 35,
   "metadata": {},
   "outputs": [
    {
     "name": "stdout",
     "output_type": "stream",
     "text": [
      "La quantitat de peces/Kgs. de fruites és de:  12\n"
     ]
    }
   ],
   "source": [
    "# Quantes fruites hem comprat en total?\n",
    "\n",
    "amount_Total = 0\n",
    "\n",
    "for i in compra.keys():\n",
    "    amount_Total += compra[i][\"Qty\"]\n",
    "    \n",
    "print(\"La quantitat de peces/Kgs. de fruites és de: \", amount_Total)\n"
   ]
  },
  {
   "cell_type": "code",
   "execution_count": 49,
   "metadata": {},
   "outputs": [
    {
     "name": "stdout",
     "output_type": "stream",
     "text": [
      "[['Pomes', 0.42], ['Peres', 0.66], ['Taronges', 0.52]]\n",
      "La fuita més cara són: Peres amb un preu de: 0.66 \n"
     ]
    }
   ],
   "source": [
    "# Quina és la fruita més cara?\n",
    "\n",
    "price_list = [[key, value[\"€\"]] for key, value in compra.items()]  \n",
    "\n",
    "print(price_list)\n",
    "\n",
    "idx, max_value = max(price_list, key=lambda item: item[1])\n",
    "\n",
    "print(\"La fuita més cara són: {} amb un preu de: {} \".format(idx, max_value))\n"
   ]
  }
 ],
 "metadata": {
  "hide_input": false,
  "kernelspec": {
   "display_name": "Python 3",
   "language": "python",
   "name": "python3"
  },
  "language_info": {
   "codemirror_mode": {
    "name": "ipython",
    "version": 3
   },
   "file_extension": ".py",
   "mimetype": "text/x-python",
   "name": "python",
   "nbconvert_exporter": "python",
   "pygments_lexer": "ipython3",
   "version": "3.8.5"
  },
  "latex_envs": {
   "LaTeX_envs_menu_present": true,
   "autoclose": false,
   "autocomplete": true,
   "bibliofile": "biblio.bib",
   "cite_by": "apalike",
   "current_citInitial": 1,
   "eqLabelWithNumbers": true,
   "eqNumInitial": 1,
   "hotkeys": {
    "equation": "Ctrl-E",
    "itemize": "Ctrl-I"
   },
   "labels_anchors": false,
   "latex_user_defs": false,
   "report_style_numbering": false,
   "user_envs_cfg": false
  },
  "toc": {
   "base_numbering": 1,
   "nav_menu": {},
   "number_sections": true,
   "sideBar": true,
   "skip_h1_title": false,
   "title_cell": "Table of Contents",
   "title_sidebar": "Contents",
   "toc_cell": false,
   "toc_position": {},
   "toc_section_display": true,
   "toc_window_display": false
  },
  "varInspector": {
   "cols": {
    "lenName": 16,
    "lenType": 16,
    "lenVar": 40
   },
   "kernels_config": {
    "python": {
     "delete_cmd_postfix": "",
     "delete_cmd_prefix": "del ",
     "library": "var_list.py",
     "varRefreshCmd": "print(var_dic_list())"
    },
    "r": {
     "delete_cmd_postfix": ") ",
     "delete_cmd_prefix": "rm(",
     "library": "var_list.r",
     "varRefreshCmd": "cat(var_dic_list()) "
    }
   },
   "types_to_exclude": [
    "module",
    "function",
    "builtin_function_or_method",
    "instance",
    "_Feature"
   ],
   "window_display": false
  }
 },
 "nbformat": 4,
 "nbformat_minor": 4
}
