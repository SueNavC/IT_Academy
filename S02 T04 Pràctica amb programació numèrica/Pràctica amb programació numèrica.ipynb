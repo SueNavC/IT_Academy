{
 "cells": [
  {
   "cell_type": "markdown",
   "metadata": {},
   "source": [
    "# S02 T04 Pràctica amb programació numèrica"
   ]
  },
  {
   "cell_type": "markdown",
   "metadata": {},
   "source": [
    "### Exercici 1"
   ]
  },
  {
   "cell_type": "markdown",
   "metadata": {},
   "source": [
    "Crea una funció que donat un Array d’una dimensió, et faci un resum estadístic bàsic de les dades. Si detecta que l’array té més d’una dimensió, ha de mostrar un missatge d’error."
   ]
  },
  {
   "cell_type": "code",
   "execution_count": 23,
   "metadata": {},
   "outputs": [
    {
     "name": "stdout",
     "output_type": "stream",
     "text": [
      "[20  5 72 25 16 64 34 56  3 27 59 41 39 59 33  7 66 49 68 87 35 17 46 69\n",
      " 55 79 47  7 90 89 94 52 42 25 69 79 39 39 47 20 94 47 98 66 63 52  1 89\n",
      " 41 25]\n",
      "\n",
      " (50,)\n",
      "<class 'numpy.ndarray'>\n",
      "\n",
      "La mitja de l'array és:  48.92\n",
      "\n",
      "La diferencia d'extrems de l'array és:  97\n",
      "\n",
      "La variança de l'array és:  692.6736\n",
      "\n",
      "La desviació standard de l'array és:  26.319 \n",
      "\n",
      "El coeficient de variació de l'array és:  1.859 \n"
     ]
    }
   ],
   "source": [
    "import numpy as np \n",
    "\n",
    "def array1D(arrayX):\n",
    "    if arrayX.ndim == 1: \n",
    "        print(\"\\nLa mitja de l'array és: \", arrayX.mean())\n",
    "        print(\"\\nLa diferencia d'extrems de l'array és: \", arrayX.ptp())\n",
    "        print(\"\\nLa variança de l'array és: \", arrayX.var())\n",
    "        print(\"\\nLa desviació standard de l'array és:  {:.3f} \".format(arrayX.std()))\n",
    "        print(\"\\nEl coeficient de variació de l'array és:  {:.3f} \".format(arrayX.mean() / arrayX.std()))\n",
    "        \n",
    "    else:\n",
    "        dimensions = arrayY.shape()\n",
    "        printnt(\"La matriu introduïda no és unidimensional sinó que té {} dimensions\".format(dimensions))\n",
    "        arrayX = arrayX.ravel('C')\n",
    "\n",
    "            \n",
    "arrayY = np.random.randint(1,100,50)\n",
    "print(arrayY)\n",
    "print(\"\\n\", arrayY.shape)\n",
    "print(type(arrayY))\n",
    "\n",
    "array1D(arrayY)"
   ]
  },
  {
   "cell_type": "markdown",
   "metadata": {},
   "source": [
    "### Exercici 2"
   ]
  },
  {
   "cell_type": "markdown",
   "metadata": {},
   "source": [
    "Crea una funció que et generi un quadrat NxN de nombres aleatoris entre el 0 i el 100."
   ]
  },
  {
   "cell_type": "code",
   "execution_count": 30,
   "metadata": {},
   "outputs": [
    {
     "name": "stdout",
     "output_type": "stream",
     "text": [
      "42\n"
     ]
    },
    {
     "data": {
      "text/plain": [
       "[[42, 42, 42, 42, 42, 42, 42, 42],\n",
       " [42, 42, 42, 42, 42, 42, 42, 42],\n",
       " [42, 42, 42, 42, 42, 42, 42, 42],\n",
       " [42, 42, 42, 42, 42, 42, 42, 42],\n",
       " [42, 42, 42, 42, 42, 42, 42, 42],\n",
       " [42, 42, 42, 42, 42, 42, 42, 42],\n",
       " [42, 42, 42, 42, 42, 42, 42, 42],\n",
       " [42, 42, 42, 42, 42, 42, 42, 42]]"
      ]
     },
     "execution_count": 30,
     "metadata": {},
     "output_type": "execute_result"
    }
   ],
   "source": [
    "def matriuQuadrada(dim):\n",
    "    \n",
    "    matriZ = np.random.randint(0,100)\n",
    "    print(matriZ)\n",
    "    return [[matriZ for j in range(dim)] for i in range(dim)]\n",
    "\n",
    "dim = 8   \n",
    "matriuQuadrada(dim)   \n"
   ]
  },
  {
   "cell_type": "markdown",
   "metadata": {},
   "source": [
    "### Exercici 3"
   ]
  },
  {
   "cell_type": "markdown",
   "metadata": {},
   "source": [
    "Crea una funció que donada una taula de dues dimensions, et calculi els totals per fila i els totals per columna."
   ]
  },
  {
   "cell_type": "code",
   "execution_count": 38,
   "metadata": {
    "run_control": {
     "marked": true
    }
   },
   "outputs": [
    {
     "name": "stdout",
     "output_type": "stream",
     "text": [
      "[[21 37 31  4 35 37]\n",
      " [37  2 32 31  1 12]\n",
      " [18  8 37 28 38 26]\n",
      " [22  1 31  2 12 31]\n",
      " [33 16 19 37 17 27]]\n",
      "\n",
      "Total de files: [165 115 155  99 149] \n",
      "Total de columnes: [131  64 150 102 103 133]\n"
     ]
    }
   ],
   "source": [
    "def sumaTotals(arrayX):\n",
    "    sumar_Rows = np.sum(arrayX, axis=1)\n",
    "    sumar_Cols = np.sum(arrayX, axis=0)\n",
    "    print(\"\\nTotal de files: {} \\nTotal de columnes: {}\".format(sumar_Rows, sumar_Cols))\n",
    "    \n",
    "arrayB = np.random.randint(40, size=(5, 6)) \n",
    "print(arrayB)\n",
    "    \n",
    "sumaTotals(arrayB)"
   ]
  },
  {
   "cell_type": "markdown",
   "metadata": {},
   "source": [
    "### Exercici 4"
   ]
  },
  {
   "cell_type": "markdown",
   "metadata": {},
   "source": [
    "Implementa manualment una funció que calculi el coeficient de correlació. Informa’t-en sobre els seus usos i interpretació."
   ]
  },
  {
   "cell_type": "markdown",
   "metadata": {},
   "source": [
    "El coeficient de correlació s'utiliza per comparar variables cuantitatives i continues. Fem servir el corrcoef() inclós en la llibreria numpy per calcular el seu valor.\n",
    "\n",
    "Si les variables aleatòries tenen associacions lineals altes, aleshores el seu coeficient de correlació és proper a +1 o -1. D'altra banda, les variables estadísticament independents tenen coeficients de correlació propers a zero.\n",
    "\n",
    "\n",
    "La fórmula per calcular-lo:\n",
    "\n",
    "![coeficient-correlacio](https://miro.medium.com/max/962/1*9qWpwVlIqqOBZ2IyGypX9g.jpeg)\n"
   ]
  },
  {
   "cell_type": "code",
   "execution_count": 57,
   "metadata": {},
   "outputs": [
    {
     "name": "stdout",
     "output_type": "stream",
     "text": [
      "\n",
      "____Metode numpy____\n",
      "\n",
      "0.15426023130693342\n",
      "0.15426023130693342\n",
      "\n",
      "____Metode scipy____\n",
      "\n",
      "0.1542602313069334 0.6704716422739829\n"
     ]
    }
   ],
   "source": [
    "import numpy as np\n",
    "import scipy.stats\n",
    "\n",
    "def calcul_CoeCorr(array1, array2):\n",
    "    r = np.mean(np.multiply((array1-np.mean(array1)),(array2-np.mean(array2))))/(np.std(array1)*np.std(array2))\n",
    "    print(r)  \n",
    "\n",
    "#stat, p = scipy.stats.pearsonr(x, y)    \n",
    "\n",
    "arrayT = np.random.randint(0,100, 10)\n",
    "arrayH = np.random.randint(0,20, 10)\n",
    "\n",
    "# Amb funció\n",
    "print(\"\\n____Metode numpy____\\n\")\n",
    "calcul_CoeCorr(arrayT, arrayH)\n",
    "\n",
    "# Sense funció\n",
    "r2 = np.corrcoef (arrayT, arrayH) [0,1]\n",
    "print(r2)\n",
    "\n",
    "# Amb la llibreria Scipy\n",
    "# p = valor p > si valor de p és menor que .05, conclouríem que hi ha una correlació estadísticament significativa entre \n",
    "# amdues variables.\n",
    "print(\"\\n____Metode scipy____\\n\")\n",
    "stat, p = scipy.stats.pearsonr(arrayT, arrayH)\n",
    "print(stat, p)"
   ]
  }
 ],
 "metadata": {
  "hide_input": false,
  "kernelspec": {
   "display_name": "Python 3",
   "language": "python",
   "name": "python3"
  },
  "language_info": {
   "codemirror_mode": {
    "name": "ipython",
    "version": 3
   },
   "file_extension": ".py",
   "mimetype": "text/x-python",
   "name": "python",
   "nbconvert_exporter": "python",
   "pygments_lexer": "ipython3",
   "version": "3.8.5"
  },
  "latex_envs": {
   "LaTeX_envs_menu_present": true,
   "autoclose": false,
   "autocomplete": true,
   "bibliofile": "biblio.bib",
   "cite_by": "apalike",
   "current_citInitial": 1,
   "eqLabelWithNumbers": true,
   "eqNumInitial": 1,
   "hotkeys": {
    "equation": "Ctrl-E",
    "itemize": "Ctrl-I"
   },
   "labels_anchors": false,
   "latex_user_defs": false,
   "report_style_numbering": false,
   "user_envs_cfg": false
  },
  "toc": {
   "base_numbering": 1,
   "nav_menu": {},
   "number_sections": true,
   "sideBar": true,
   "skip_h1_title": false,
   "title_cell": "Table of Contents",
   "title_sidebar": "Contents",
   "toc_cell": false,
   "toc_position": {},
   "toc_section_display": true,
   "toc_window_display": false
  },
  "varInspector": {
   "cols": {
    "lenName": 16,
    "lenType": 16,
    "lenVar": 40
   },
   "kernels_config": {
    "python": {
     "delete_cmd_postfix": "",
     "delete_cmd_prefix": "del ",
     "library": "var_list.py",
     "varRefreshCmd": "print(var_dic_list())"
    },
    "r": {
     "delete_cmd_postfix": ") ",
     "delete_cmd_prefix": "rm(",
     "library": "var_list.r",
     "varRefreshCmd": "cat(var_dic_list()) "
    }
   },
   "types_to_exclude": [
    "module",
    "function",
    "builtin_function_or_method",
    "instance",
    "_Feature"
   ],
   "window_display": false
  }
 },
 "nbformat": 4,
 "nbformat_minor": 4
}
